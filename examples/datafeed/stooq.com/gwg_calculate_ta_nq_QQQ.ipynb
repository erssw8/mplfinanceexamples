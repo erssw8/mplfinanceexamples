{
 "cells": [
  {
   "cell_type": "code",
   "execution_count": 1,
   "metadata": {},
   "outputs": [],
   "source": [
    "import sqlite3\n",
    "import pandas as pd\n",
    "import numpy as np\n",
    "from sql_metadata import Parser\n",
    "from traceback import format_exc\n",
    "import time"
   ]
  },
  {
   "cell_type": "code",
   "execution_count": 2,
   "metadata": {},
   "outputs": [],
   "source": [
    "# This allows multiple outputs from a single jupyter notebook cell:\n",
    "from IPython.core.interactiveshell import InteractiveShell\n",
    "InteractiveShell.ast_node_interactivity = \"all\""
   ]
  },
  {
   "cell_type": "code",
   "execution_count": 3,
   "metadata": {},
   "outputs": [],
   "source": [
    "FIRST_TIME = True\n",
    "\n",
    "FLAG_DEBUG = False # True # \n",
    "\n",
    "RSI_PERIOD, RSI_AVG, RSI_BAND_WIDTH = 100, 25, 0.6\n",
    "EMA_FAST, EMA_SLOW, EMA_LONG = 15, 50, 150\n",
    "EMA_FAST_SCALE = 1.4  # EMA10 band half-width factor\n",
    "EMA_SLOW_SCALE = 2.0 \n",
    "MA_VOL = 20\n",
    "SPAN, OVERLAP = 200, 15\n",
    "PANID_PRICE, PANID_VOL, PANID_RSI, PANID_SIGNAL = 0, 3, 2, 1\n",
    "PANEL_RATIOS = (8, 1, 8, 1)\n",
    "FIGURE_WIDTH, FIGURE_HEIGHT =  17, 13\n",
    "YELLOW = '#F5D928'\n",
    "LIGHT_BLACK = '#8F8E83'\n"
   ]
  },
  {
   "cell_type": "code",
   "execution_count": 4,
   "metadata": {},
   "outputs": [],
   "source": [
    "CHART_TABLE_NAME = \"quote_ta\"\n",
    "db_name = \"NQ100\"\n",
    "file_tickers = \"wl_index-QQQ_NASDAQ100.csv\"\n",
    "file_dict = \"ticker-catalog.csv\"\n",
    "file_db = f\"db_{db_name}.sqlite\""
   ]
  },
  {
   "cell_type": "code",
   "execution_count": 5,
   "metadata": {},
   "outputs": [],
   "source": [
    "def _load_stooq_data(file_path):\n",
    "    \"\"\"Load historical quotes from http://stooq.com/db/h\n",
    "    and parse it to Pandas dataframe\n",
    "    \"\"\"\n",
    "    df = pd.read_csv(file_path,index_col=2,parse_dates=False)\n",
    "    df.reset_index(inplace=True)\n",
    "    df.drop(columns=['<TICKER>', '<PER>', '<TIME>','<OPENINT>'], axis=1, inplace=True)\n",
    "    # Avoid reserved words like date, open via suffix '_' for original quotes\n",
    "    df.rename(columns={'<DATE>' : \"date_\", '<OPEN>': \"open_\", '<HIGH>':\"high_\", \n",
    "                   '<LOW>':\"low_\", '<CLOSE>':\"close_\", '<VOL>':\"volume_\"} ,inplace=True)\n",
    "    df.set_index(\"date_\", inplace=True)\n",
    "    return df\n",
    "\n",
    "\n",
    "def _ta_RSI(df, n=14):\n",
    "    \"\"\"Calculate Technical Analysis indicator RSI, 0-centered\n",
    "    \"\"\"\n",
    "    # https://github.com/wgong/mplfinance/blob/master/examples/rsi.py\n",
    "    diff = df.w_p.diff().values\n",
    "    gains = diff\n",
    "    losses = -diff\n",
    "    with np.errstate(invalid='ignore'):\n",
    "        gains[(gains<0)|np.isnan(gains)] = 0.0\n",
    "        losses[(losses<=0)|np.isnan(losses)] = 1e-10 # we don't want divide by zero/NaN\n",
    "    m = (n-1) / n\n",
    "    ni = 1 / n\n",
    "    g = gains[n] = np.nanmean(gains[:n])\n",
    "    l = losses[n] = np.nanmean(losses[:n])\n",
    "    gains[:n] = losses[:n] = np.nan\n",
    "    for i,v in enumerate(gains[n:],n):\n",
    "        g = gains[i] = ni*v + m*g\n",
    "    for i,v in enumerate(losses[n:],n):\n",
    "        l = losses[i] = ni*v + m*l\n",
    "    rs = gains / losses\n",
    "    return 50 - (100/(1+rs))\n",
    "\n",
    "\n",
    "\n",
    "def _calculate_ta(df,rsi_period=RSI_PERIOD, avg_period=RSI_AVG, band_width=RSI_BAND_WIDTH):\n",
    "    \"\"\"Calculate Technical Analysis indicators such as \n",
    "        - EMA (fast,slow,long), EMA-band, \n",
    "        - RSI, RSI-band,\n",
    "        - Vol-avg\n",
    "    \"\"\"\n",
    "    \n",
    "    df[\"w_p\"] = 0.25*(2*df[\"close_\"] + df[\"high_\"] + df[\"low_\"])\n",
    "    df[\"ema_fast\"] = df.w_p.ewm(span=EMA_FAST).mean()\n",
    "    df[\"ema_slow\"] = df.w_p.ewm(span=EMA_SLOW).mean()\n",
    "    df[\"ema_long\"] = df.w_p.ewm(span=EMA_LONG).mean()\n",
    "\n",
    "    # range\n",
    "    hl_mean_fast = (df.high_ - df.low_).ewm(span=int(EMA_FAST/2)).mean()\n",
    "    df[\"ema_fast_u\"] =  df.ema_fast + 0.5*hl_mean_fast * EMA_FAST_SCALE\n",
    "    df[\"ema_fast_d\"] =  df.ema_fast - 0.5*hl_mean_fast * EMA_FAST_SCALE\n",
    "\n",
    "    hl_mean_slow = (df.high_ - df.low_).ewm(span=int(EMA_SLOW/2)).mean()\n",
    "    df[\"ema_slow_u\"] =  df.ema_slow + 0.5*hl_mean_slow * EMA_SLOW_SCALE\n",
    "    df[\"ema_slow_d\"] =  df.ema_slow - 0.5*hl_mean_slow * EMA_SLOW_SCALE\n",
    "\n",
    "    # trim volume to avoid exponential form\n",
    "    df['vol'] = df['volume_'] / 1000000.0\n",
    "    df[\"vol_avg\"] = df.vol.ewm(span=MA_VOL).mean()\n",
    "\n",
    "    df[\"rsi\"] = _ta_RSI(df,n=rsi_period)\n",
    "    df[\"rsi_avg\"] = df.rsi.ewm(span=avg_period).mean()\n",
    "    df[\"rsi_u\"] = df[\"rsi_avg\"] + band_width \n",
    "    df[\"rsi_d\"] = df['rsi_avg'] - band_width \n",
    "    df[\"rsi_signal\"] = df[\"rsi\"] - df[\"rsi_avg\"]\n",
    "\n",
    "    df[\"del_ema_slow\"] = df.ema_slow.diff().values\n",
    "    df[\"del_ema_long\"] = df.ema_long.diff().values\n",
    "    df[\"del_rsi_avg\"] = df.rsi_avg.diff().values\n",
    "    \n",
    "    return df\n",
    "\n",
    "def _display_df(df, nrows=3):\n",
    "    print(df.head(nrows))\n",
    "    print(\"\\n\",3*\"..\",\"\\n\")\n",
    "    print(df.tail(nrows))"
   ]
  },
  {
   "cell_type": "code",
   "execution_count": 6,
   "metadata": {},
   "outputs": [],
   "source": [
    "create_table_sql = f'''CREATE TABLE {CHART_TABLE_NAME}\n",
    "    (ticker text\n",
    "    \n",
    "    , date_ text\n",
    "\t, open_ real\n",
    "\t, high_ real\n",
    "\t, low_ real\n",
    "\t, close_ real\n",
    "\t, volume_ INTEGER\n",
    "    \n",
    "\t, w_p real\n",
    "\t, ema_fast real\n",
    "\t, ema_slow real\n",
    "\t, ema_long real\n",
    "\t, ema_fast_u real\n",
    "\t, ema_fast_d real\n",
    "\t, ema_slow_u real\n",
    "\t, ema_slow_d real\n",
    "\t, vol real\n",
    "\t, vol_avg real\n",
    "\t, rsi real\n",
    "\t, rsi_avg real\n",
    "\t, rsi_u real\n",
    "\t, rsi_d real\n",
    "\t, rsi_signal real\n",
    "\t, del_ema_slow real\n",
    "\t, del_ema_long real\n",
    "\t, del_rsi_avg real    \n",
    "    )\n",
    "'''\n",
    "\n",
    "# https://www.tutorialspoint.com/sqlite/sqlite_indexes.htm\n",
    "create_index_sql = f'''\n",
    "Create unique index if not exists\n",
    "ticker_dt on {CHART_TABLE_NAME} ( ticker , date_ )\n",
    "'''"
   ]
  },
  {
   "cell_type": "code",
   "execution_count": 7,
   "metadata": {},
   "outputs": [
    {
     "name": "stdout",
     "output_type": "stream",
     "text": [
      "table_name: quote_ta \n",
      "\n",
      "columns: ['ticker', 'date_', 'open_', 'high_', 'low_', 'close_', 'volume_', 'w_p', 'ema_fast', 'ema_slow', 'ema_long', 'ema_fast_u', 'ema_fast_d', 'ema_slow_u', 'ema_slow_d', 'vol', 'vol_avg', 'rsi', 'rsi_avg', 'rsi_u', 'rsi_d', 'rsi_signal', 'del_ema_slow', 'del_ema_long', 'del_rsi_avg']\n"
     ]
    }
   ],
   "source": [
    "parser = Parser(create_table_sql)\n",
    "table_name = parser.tables[0]\n",
    "table_columns = parser.columns   # open is a key-word, skipped\n",
    "print(f\"table_name: {table_name} \\n\\ncolumns: {table_columns}\")"
   ]
  },
  {
   "cell_type": "code",
   "execution_count": 8,
   "metadata": {},
   "outputs": [],
   "source": [
    "numeric_cols = ['w_p', 'ema_fast', 'ema_slow', 'ema_long', 'ema_fast_u', 'ema_fast_d', 'ema_slow_u', 'ema_slow_d', \n",
    "                'vol', 'vol_avg', 'rsi', 'rsi_avg', 'rsi_u', 'rsi_d', 'rsi_signal', \n",
    "                'del_ema_slow', 'del_ema_long', 'del_rsi_avg']"
   ]
  },
  {
   "cell_type": "markdown",
   "metadata": {},
   "source": [
    "#### Create table if first-time"
   ]
  },
  {
   "cell_type": "code",
   "execution_count": 9,
   "metadata": {},
   "outputs": [
    {
     "data": {
      "text/plain": [
       "<sqlite3.Cursor at 0x1920bacd650>"
      ]
     },
     "execution_count": 9,
     "metadata": {},
     "output_type": "execute_result"
    }
   ],
   "source": [
    "if FIRST_TIME:\n",
    "    conn = sqlite3.connect(file_db)\n",
    "    cur = conn.cursor()\n",
    "\n",
    "    # Create table\n",
    "    cur.execute(create_table_sql)\n",
    "\n",
    "    conn.commit()\n",
    "    conn.close()"
   ]
  },
  {
   "cell_type": "code",
   "execution_count": 10,
   "metadata": {},
   "outputs": [],
   "source": [
    "df_ticker = pd.read_csv(file_tickers)\n",
    "df_meta = pd.read_csv(file_dict)"
   ]
  },
  {
   "cell_type": "code",
   "execution_count": 11,
   "metadata": {},
   "outputs": [
    {
     "name": "stdout",
     "output_type": "stream",
     "text": [
      "  Ticker               Company\n",
      "0    QQQ                   ETF\n",
      "1   ATVI   Activision Blizzard\n",
      "2   ADBE            Adobe Inc.\n",
      "\n",
      " ...... \n",
      "\n",
      "    Ticker                     Company\n",
      "99     XEL                 Xcel Energy\n",
      "100   XLNX                      Xilinx\n",
      "101     ZM   Zoom Video Communications\n"
     ]
    }
   ],
   "source": [
    "_display_df(df_ticker)"
   ]
  },
  {
   "cell_type": "code",
   "execution_count": 12,
   "metadata": {},
   "outputs": [],
   "source": [
    "tickers = df_ticker[\"Ticker\"].to_list()"
   ]
  },
  {
   "cell_type": "code",
   "execution_count": 13,
   "metadata": {},
   "outputs": [
    {
     "data": {
      "text/plain": [
       "(102, ['QQQ', 'ATVI', 'ADBE', 'AMD', 'ALGN'])"
      ]
     },
     "execution_count": 13,
     "metadata": {},
     "output_type": "execute_result"
    }
   ],
   "source": [
    "len(tickers), tickers[:5]"
   ]
  },
  {
   "cell_type": "code",
   "execution_count": 14,
   "metadata": {},
   "outputs": [],
   "source": [
    "conn = sqlite3.connect(file_db)"
   ]
  },
  {
   "cell_type": "code",
   "execution_count": 15,
   "metadata": {},
   "outputs": [
    {
     "name": "stdout",
     "output_type": "stream",
     "text": [
      "ticker = QQQ done in 0.30 sec\n",
      "ticker = ATVI done in 0.14 sec\n",
      "ticker = ADBE done in 0.23 sec\n",
      "ticker = AMD done in 0.24 sec\n",
      "ticker = ALGN done in 0.18 sec\n",
      "ticker = GOOGL done in 0.19 sec\n",
      "ticker = GOOG done in 0.10 sec\n",
      "ticker = AMZN done in 0.17 sec\n",
      "ticker = AMGN done in 0.25 sec\n",
      "ticker = ADI done in 0.25 sec\n",
      "ticker = ANSS done in 0.14 sec\n",
      "ticker = AAPL done in 0.27 sec\n",
      "ticker = AMAT done in 0.23 sec\n",
      "ticker = ASML done in 0.16 sec\n",
      "ticker = ADSK done in 0.24 sec\n",
      "ticker = ADP done in 0.25 sec\n",
      "ticker = BIDU done in 0.19 sec\n",
      "ticker = BIIB done in 0.23 sec\n",
      "ticker = BMRN done in 0.18 sec\n",
      "ticker = BKNG done in 0.15 sec\n",
      "ticker = AVGO done in 0.13 sec\n",
      "ticker = CDNS done in 0.15 sec\n",
      "ticker = CDW done in 0.11 sec\n",
      "ticker = CERN done in 0.14 sec\n",
      "ticker = CHTR done in 0.13 sec\n",
      "ticker = CHKP done in 0.21 sec\n",
      "ticker = CTAS done in 0.22 sec\n",
      "ticker = CSCO done in 0.22 sec\n",
      "ticker = CTXS done in 0.19 sec\n",
      "ticker = CTSH done in 0.15 sec\n",
      "ticker = CMCSA done in 0.26 sec\n",
      "ticker = CPRT done in 0.14 sec\n",
      "ticker = COST done in 0.25 sec\n",
      "ticker = CSX done in 0.27 sec\n",
      "ticker = DXCM done in 0.16 sec\n",
      "ticker = DOCU done in 0.11 sec\n",
      "ticker = DLTR done in 0.28 sec\n",
      "ticker = EBAY done in 0.19 sec\n",
      "ticker = EA done in 0.11 sec\n",
      "ticker = EXC done in 0.28 sec\n",
      "ticker = EXPE done in 0.16 sec\n",
      "ticker = FB done in 0.10 sec\n",
      "ticker = FAST done in 0.19 sec\n",
      "ticker = FISV done in 0.23 sec\n",
      "ticker = FOXA done in 0.07 sec\n",
      "ticker = FOX done in 0.06 sec\n",
      "ticker = GILD done in 0.20 sec\n",
      "ticker = IDXX done in 0.16 sec\n",
      "ticker = ILMN done in 0.15 sec\n",
      "ticker = INCY done in 0.14 sec\n",
      "ticker = INTC done in 0.31 sec\n",
      "ticker = INTU done in 0.18 sec\n",
      "ticker = ISRG done in 0.15 sec\n",
      "ticker = JD done in 0.11 sec\n",
      "ticker = KDP done in 0.12 sec\n",
      "ticker = KLAC done in 0.22 sec\n",
      "ticker = KHC done in 0.11 sec\n",
      "ticker = LRCX done in 0.22 sec\n",
      "ticker = LBTYA done in 0.20 sec\n",
      "ticker = LBTYK done in 0.16 sec\n",
      "ticker = LULU done in 0.12 sec\n",
      "ticker = MAR done in 0.19 sec\n",
      "ticker = MELI done in 0.14 sec\n",
      "ticker = MCHP done in 0.19 sec\n",
      "ticker = MU done in 0.20 sec\n",
      "ticker = MSFT done in 0.25 sec\n",
      "ticker = MRNA done in 0.07 sec\n",
      "ticker = MDLZ done in 0.12 sec\n",
      "ticker = MNST done in 0.10 sec\n",
      "ticker = NTES done in 0.14 sec\n",
      "ticker = NFLX done in 0.14 sec\n",
      "ticker = NVDA done in 0.17 sec\n",
      "ticker = NXPI done in 0.15 sec\n",
      "ticker = ORLY done in 0.18 sec\n",
      "ticker = PCAR done in 0.23 sec\n",
      "ticker = PAYX done in 0.22 sec\n",
      "ticker = PYPL done in 0.09 sec\n",
      "ticker = PEP done in 0.28 sec\n",
      "ticker = PDD done in 0.07 sec\n",
      "ticker = QCOM done in 0.20 sec\n",
      "ticker = REGN done in 0.13 sec\n",
      "ticker = ROST done in 0.29 sec\n",
      "ticker = SGEN done in 0.16 sec\n",
      "ticker = SIRI done in 0.18 sec\n",
      "ticker = SWKS done in 0.13 sec\n",
      "ticker = SPLK done in 0.10 sec\n",
      "ticker = SBUX done in 0.20 sec\n",
      "ticker = SNPS done in 0.22 sec\n",
      "ticker = TMUS done in 0.16 sec\n",
      "ticker = TTWO done in 0.15 sec\n",
      "ticker = TSLA done in 0.11 sec\n",
      "ticker = TXN done in 0.24 sec\n",
      "ticker = TCOM done in 0.22 sec\n",
      "ticker = ULTA done in 0.12 sec\n",
      "ticker = VRSN done in 0.17 sec\n",
      "ticker = VRSK done in 0.12 sec\n",
      "ticker = VRTX done in 0.14 sec\n",
      "ticker = WBA done in 0.21 sec\n",
      "ticker = WDAY done in 0.10 sec\n",
      "ticker = XEL done in 0.18 sec\n",
      "ticker = XLNX done in 0.22 sec\n",
      "ticker = ZM done in 0.07 sec\n",
      "number of tickers=102, calculations done in 17.90 sec\n"
     ]
    }
   ],
   "source": [
    "delta_ts = 0\n",
    "for ticker in tickers:\n",
    "    ts_begin = time.time()\n",
    "    \n",
    "    try:\n",
    "        dd = df_meta[df_meta['ticker'] == ticker].to_dict('records')[0]\n",
    "    except:\n",
    "        print(f\"ticker: {ticker}\\n{format_exc()}\")\n",
    "        continue\n",
    "    \n",
    "    # load quotes, TA, round\n",
    "    df = _load_stooq_data(dd['file_path'])\n",
    "    df = _calculate_ta(df)\n",
    "    df[numeric_cols] = np.round(df[numeric_cols], 4)\n",
    "    df.reset_index(inplace=True)\n",
    "    df['ticker'] = ticker\n",
    "    \n",
    "    # save to Sqlite\n",
    "    df.to_sql(table_name, conn, if_exists='append', index=False)\n",
    "    ts_end = time.time()\n",
    "    print(f\"ticker = {ticker} done in {(ts_end-ts_begin):.2f} sec\")\n",
    "    delta_ts += (ts_end-ts_begin)\n",
    "    \n",
    "print(f\"number of tickers={len(tickers)}, calculations done in {delta_ts:.2f} sec\")"
   ]
  },
  {
   "cell_type": "raw",
   "metadata": {},
   "source": [
    "number of tickers=102, calculations done in 17.90 sec"
   ]
  },
  {
   "cell_type": "markdown",
   "metadata": {},
   "source": [
    "#### Create index after loading quotes"
   ]
  },
  {
   "cell_type": "code",
   "execution_count": 16,
   "metadata": {},
   "outputs": [
    {
     "data": {
      "text/plain": [
       "<sqlite3.Cursor at 0x1920c08e650>"
      ]
     },
     "execution_count": 16,
     "metadata": {},
     "output_type": "execute_result"
    }
   ],
   "source": [
    "if FIRST_TIME:\n",
    "    conn = sqlite3.connect(file_db)\n",
    "    cur = conn.cursor()\n",
    "\n",
    "    # Create table\n",
    "    cur.execute(create_index_sql)\n",
    "\n",
    "    conn.commit()\n",
    "    conn.close()"
   ]
  },
  {
   "cell_type": "code",
   "execution_count": null,
   "metadata": {},
   "outputs": [],
   "source": []
  },
  {
   "cell_type": "code",
   "execution_count": null,
   "metadata": {},
   "outputs": [],
   "source": []
  }
 ],
 "metadata": {
  "kernelspec": {
   "display_name": "Python 3",
   "language": "python",
   "name": "python3"
  },
  "language_info": {
   "codemirror_mode": {
    "name": "ipython",
    "version": 3
   },
   "file_extension": ".py",
   "mimetype": "text/x-python",
   "name": "python",
   "nbconvert_exporter": "python",
   "pygments_lexer": "ipython3",
   "version": "3.8.5"
  },
  "toc": {
   "base_numbering": 1,
   "nav_menu": {},
   "number_sections": true,
   "sideBar": true,
   "skip_h1_title": false,
   "title_cell": "Table of Contents",
   "title_sidebar": "Contents",
   "toc_cell": false,
   "toc_position": {},
   "toc_section_display": true,
   "toc_window_display": false
  }
 },
 "nbformat": 4,
 "nbformat_minor": 4
}
