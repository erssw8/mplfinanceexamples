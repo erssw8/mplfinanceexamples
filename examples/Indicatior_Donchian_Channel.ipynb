import pandas as pd
import mplfinance as mpf
import matplotlib.dates as mdates
infile = 'data/t_data.csv'

df = pd.read_csv(infile, index_col=0, parse_dates=True)
DCU = df[['DCU_10_15']]
DCM = df[['DCM_10_15']]
DCL = df[['DCL_10_15']]
apds = [
    mpf.make_addplot(DCU,color='#2962FF',panel=0,),
    mpf.make_addplot(DCM,color='#FF6D00',panel=0,),
    mpf.make_addplot(DCL,color='#2962FF',panel=0,),
]
mpf.plot(
    df,
    volume=True,
    type="candle",
    fill_between=dict(y1=df['DCU_10_15'].values,y2=df['DCL_10_15'].values,alpha=0.1,color='#2962FF'),
    style="yahoo",
    addplot=apds,
    figscale=1.2,
    figsize=(46,26,),
    
)
