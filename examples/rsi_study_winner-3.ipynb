{
 "cells": [
  {
   "cell_type": "markdown",
   "metadata": {},
   "source": [
    "change rsi_avg color \n",
    "- https://code.luasoftware.com/tutorials/algo-trading/mplfinance-change-color-depending-on-value-is-positive-or-negative/"
   ]
  },
  {
   "cell_type": "markdown",
   "metadata": {},
   "source": [
    "---\n",
    "\n",
    "# RSI study of  winning stocks \n",
    "\n",
    "---\n"
   ]
  },
  {
   "cell_type": "code",
   "execution_count": 1,
   "metadata": {},
   "outputs": [],
   "source": [
    "# This allows multiple outputs from a single jupyter notebook cell:\n",
    "from IPython.core.interactiveshell import InteractiveShell\n",
    "InteractiveShell.ast_node_interactivity = \"all\""
   ]
  },
  {
   "cell_type": "code",
   "execution_count": 2,
   "metadata": {},
   "outputs": [],
   "source": [
    "%matplotlib inline\n",
    "import pandas as pd\n",
    "import numpy as np"
   ]
  },
  {
   "cell_type": "code",
   "execution_count": 3,
   "metadata": {},
   "outputs": [],
   "source": [
    "import matplotlib.pyplot as plt"
   ]
  },
  {
   "cell_type": "code",
   "execution_count": 4,
   "metadata": {},
   "outputs": [],
   "source": [
    "plt.rcParams.update({'grid.linestyle' : 'dotted' })"
   ]
  },
  {
   "cell_type": "code",
   "execution_count": 5,
   "metadata": {
    "scrolled": false
   },
   "outputs": [
    {
     "data": {
      "text/plain": [
       "'0.12.8b10'"
      ]
     },
     "execution_count": 5,
     "metadata": {},
     "output_type": "execute_result"
    }
   ],
   "source": [
    "import mplfinance as mpf\n",
    "mpf.__version__\n",
    "# mpf.plot(df,volume=True,type='candle')\n"
   ]
  },
  {
   "cell_type": "code",
   "execution_count": 6,
   "metadata": {},
   "outputs": [],
   "source": [
    "FLAG_DEBUG = True #  False # \n",
    "\n",
    "RSI_PERIOD, RSI_AVG, RSI_BAND_WIDTH = 100, 25, 0.6\n",
    "EMA_FAST, EMA_SLOW, EMA_LONG = 15, 50, 150\n",
    "EMA_FAST_SCALE = 1.4  # EMA10 band half-width factor\n",
    "EMA_SLOW_SCALE = 2.0 \n",
    "MA_VOL = 20\n",
    "SPAN, OVERLAP = 200, 15\n",
    "PANID_PRICE, PANID_VOL, PANID_RSI, PANID_SIGNAL = 0, 3, 2, 1\n",
    "PANEL_RATIOS = (8, 1, 8, 1)\n",
    "FIGURE_WIDTH, FIGURE_HEIGHT =  17, 13\n",
    "YELLOW = '#F5D928'\n",
    "LIGHT_BLACK = '#8F8E83'\n",
    "\n",
    "def _ta_RSI(df, n=14):\n",
    "    # https://github.com/wgong/mplfinance/blob/master/examples/rsi.py\n",
    "    diff = df.w_p.diff().values\n",
    "    gains = diff\n",
    "    losses = -diff\n",
    "    with np.errstate(invalid='ignore'):\n",
    "        gains[(gains<0)|np.isnan(gains)] = 0.0\n",
    "        losses[(losses<=0)|np.isnan(losses)] = 1e-10 # we don't want divide by zero/NaN\n",
    "    m = (n-1) / n\n",
    "    ni = 1 / n\n",
    "    g = gains[n] = np.nanmean(gains[:n])\n",
    "    l = losses[n] = np.nanmean(losses[:n])\n",
    "    gains[:n] = losses[:n] = np.nan\n",
    "    for i,v in enumerate(gains[n:],n):\n",
    "        g = gains[i] = ni*v + m*g\n",
    "    for i,v in enumerate(losses[n:],n):\n",
    "        l = losses[i] = ni*v + m*l\n",
    "    rs = gains / losses\n",
    "    return 50 - (100/(1+rs))\n",
    "\n",
    "def load_stooq_data(ticker):\n",
    "    df = pd.read_csv(f'data/{ticker}.us.txt',index_col=2,parse_dates=True)\n",
    "    df.reset_index(inplace=True)\n",
    "    df.drop(columns=['<TICKER>', '<PER>', '<TIME>','<OPENINT>'], axis=1, inplace=True)\n",
    "    df.rename(columns={'<DATE>' : \"Date\", '<OPEN>': \"Open\", '<HIGH>':\"High\", \n",
    "                   '<LOW>':\"Low\", '<CLOSE>':\"Close\", '<VOL>':\"Volume\"} ,inplace=True)\n",
    "    df.set_index(\"Date\", inplace=True)\n",
    "    return df\n",
    "\n",
    "\n",
    "\n",
    "def calculate_ta(df,rsi_period=RSI_PERIOD, avg_period=RSI_AVG, band_width=RSI_BAND_WIDTH):\n",
    "    \n",
    "    df[\"w_p\"] = 0.25*(2*df[\"Close\"] + df[\"High\"] + df[\"Low\"])\n",
    "    df[\"ema_fast\"] = df.w_p.ewm(span=EMA_FAST).mean()\n",
    "    df[\"ema_slow\"] = df.w_p.ewm(span=EMA_SLOW).mean()\n",
    "    df[\"ema_long\"] = df.w_p.ewm(span=EMA_LONG).mean()\n",
    "\n",
    "    # range\n",
    "    hl_mean_fast = (df.High - df.Low).ewm(span=int(EMA_FAST/2)).mean()\n",
    "    df[\"ema_fast_u\"] =  df.ema_fast + 0.5*hl_mean_fast * EMA_FAST_SCALE\n",
    "    df[\"ema_fast_d\"] =  df.ema_fast - 0.5*hl_mean_fast * EMA_FAST_SCALE\n",
    "\n",
    "    hl_mean_slow = (df.High - df.Low).ewm(span=int(EMA_SLOW/2)).mean()\n",
    "    df[\"ema_slow_u\"] =  df.ema_slow + 0.5*hl_mean_slow * EMA_SLOW_SCALE\n",
    "    df[\"ema_slow_d\"] =  df.ema_slow - 0.5*hl_mean_slow * EMA_SLOW_SCALE\n",
    "\n",
    "    # trim volume to avoid exponential form\n",
    "    df['Volume'] = df['Volume'] / 1000000\n",
    "    df[\"vol_avg\"] = df.Volume.ewm(span=MA_VOL).mean()\n",
    "\n",
    "    df[\"rsi\"] = _ta_RSI(df,n=rsi_period)\n",
    "    df[\"rsi_avg\"] = df.rsi.ewm(span=avg_period).mean()\n",
    "    df[\"rsi_u\"] = df[\"rsi_avg\"] + band_width \n",
    "    df[\"rsi_d\"] = df['rsi_avg'] - band_width \n",
    "    df[\"rsi_signal\"] = df[\"rsi\"] - df[\"rsi_avg\"]\n",
    "\n",
    "    return df\n",
    "\n",
    "def _title_xy(ticker):\n",
    "    # position title manually\n",
    "    return {\"title\": f\"{ticker.upper()}\",  \"x\": 0.75, \"y\": 0.95}\n",
    "\n",
    "def _color_rsi_avg(v):\n",
    "    if v > 0: return '#DCF7E5'\n",
    "    elif v < 0: return '#F6D5F7'\n",
    "    return YELLOW\n",
    "\n",
    "def _color_signal(v):\n",
    "    if v > 0: return 'g'\n",
    "    elif v < 0: return 'r'\n",
    "    return YELLOW"
   ]
  },
  {
   "cell_type": "code",
   "execution_count": 7,
   "metadata": {},
   "outputs": [],
   "source": [
    "def gen_chart(ticker, df, num=0, panid_price=PANID_PRICE, panid_vol=PANID_VOL,\n",
    "              panid_rsi=PANID_RSI, panid_signal=PANID_SIGNAL, image_path=\"images\"):\n",
    "    \"\"\"\n",
    "    Generate chart using Mplfinance\n",
    "    \"\"\"\n",
    "    ema_fast_u_plot = mpf.make_addplot(df[\"ema_fast_u\"], panel=panid_price, color=LIGHT_BLACK, linestyle=\"solid\")\n",
    "    ema_fast_d_plot = mpf.make_addplot(df[\"ema_fast_d\"], panel=panid_price, color=LIGHT_BLACK, linestyle=\"solid\")\n",
    "    ema_slow_plot = mpf.make_addplot(df[\"ema_slow\"], panel=panid_price, color='b', width=2, linestyle=\"solid\")\n",
    "    ema_long_plot = mpf.make_addplot(df[\"ema_long\"], panel=panid_price, width=2, color='k')  # magenta\n",
    "    \n",
    "    rsi_min, rsi_max = np.nanmin(df[\"rsi\"]), np.nanmax(df[\"rsi\"])\n",
    "    rsi_avg_plot = mpf.make_addplot(df[\"rsi_avg\"], panel=panid_rsi, type=\"bar\", \n",
    "                            color=[_color_rsi_avg(v)  for v in df[\"rsi_avg\"]], \n",
    "                            ylim=(rsi_min,rsi_max))\n",
    "    rsi_avg_plot2 = mpf.make_addplot(df[\"rsi_avg\"], panel=panid_rsi, color=\"b\", width=1, linestyle=\"solid\",\n",
    "                            ylim=(rsi_min,rsi_max))\n",
    "    rsi_plot = mpf.make_addplot(df[\"rsi\"], panel=panid_rsi, color='r', width=1, #title=f\"{ticker}-RSI\",\n",
    "                            fill_between=dict(y1=df[\"rsi_d\"].values,y2=df[\"rsi_u\"].values,alpha=0.15,color='b'),\n",
    "                            ylim=(rsi_min,rsi_max))\n",
    "    signal_plot = mpf.make_addplot(df[\"rsi_signal\"], panel=panid_signal, type=\"bar\", \n",
    "                            color=[_color_signal(v) for v in df[\"rsi_signal\"]], \n",
    "                            ylim=(-1,1))                            \n",
    "\n",
    "    vol_avg_plot = mpf.make_addplot(df[\"vol_avg\"], panel=panid_vol, color='k')\n",
    "\n",
    "    plots = [\n",
    "            # panel-0\n",
    "            ema_fast_u_plot, ema_fast_d_plot, ema_slow_plot, ema_long_plot # ema_slow_u_plot, ema_slow_d_plot, \n",
    "            # panel-1\n",
    "            , rsi_avg_plot, rsi_plot, rsi_avg_plot2  # , rsi_u_plot, rsi_d_plot \n",
    "            # panel-2\n",
    "            , vol_avg_plot\n",
    "            # panel-3\n",
    "            , signal_plot\n",
    "        ]\n",
    "    file_img = f\"{image_path}/{ticker}-{str(num).zfill(2)}.png\"\n",
    "    print(file_img)\n",
    "    mpf.plot(df, type='candle', \n",
    "            style='yahoo', \n",
    "            fill_between=dict(y1=df[\"ema_fast_d\"].values,y2=df[\"ema_fast_u\"].values,alpha=0.15,color='b'),\n",
    "            panel_ratios=PANEL_RATIOS,\n",
    "            addplot=plots, \n",
    "            title=_title_xy(ticker),\n",
    "            volume=True, volume_panel=panid_vol, \n",
    "            ylabel=\"\", ylabel_lower='',\n",
    "            xrotation=0,\n",
    "            datetime_format='%Y-%m-%d',\n",
    "            savefig=file_img,\n",
    "            figsize=(FIGURE_WIDTH,FIGURE_HEIGHT),\n",
    "            tight_layout=True,\n",
    "            show_nontrading=True\n",
    "        )\n",
    "    return {\"ticker\": ticker, \"file_img\": file_img}"
   ]
  },
  {
   "cell_type": "raw",
   "metadata": {},
   "source": [
    "# del [df]\n",
    "\n",
    "df = load_stooq_data(ticker)\n",
    "\n",
    "df.head(3)\n",
    "df.tail(3)\n",
    "\n",
    "mpf.plot(df,volume=False,type='candle')"
   ]
  },
  {
   "cell_type": "raw",
   "metadata": {},
   "source": [
    "ticker = \"googl\""
   ]
  },
  {
   "cell_type": "code",
   "execution_count": 8,
   "metadata": {
    "scrolled": false
   },
   "outputs": [
    {
     "name": "stdout",
     "output_type": "stream",
     "text": [
      "images/aapl-01.png\n",
      "images/aapl-02.png\n"
     ]
    }
   ],
   "source": [
    "for ticker in [\"aapl\", \"adbe\", \"amd\", \"amzn\", \"googl\", \"intc\"]:\n",
    "\n",
    "    # test\n",
    "    if FLAG_DEBUG and ticker != \"aapl\" : continue\n",
    "\n",
    "    df = load_stooq_data(ticker)\n",
    "    df = calculate_ta(df)\n",
    "    \n",
    "    LEN = df.shape[0]\n",
    "\n",
    "    num = 0\n",
    "    intervals = []\n",
    "    for ix_stop in range(LEN, RSI_PERIOD, -SPAN):\n",
    "        ix_start = ix_stop - SPAN -int(OVERLAP/2)\n",
    "        intervals.append((ix_start if ix_start > 0 else 0, ix_stop+int(OVERLAP/2)))    \n",
    "\n",
    "    for ix_start,ix_stop in intervals[::-1]:\n",
    "        num += 1\n",
    "\n",
    "        # test\n",
    "        if FLAG_DEBUG and num > 2:  break\n",
    "        \n",
    "        df_1 = df.iloc[ix_start : ix_stop]\n",
    "        gen_chart(ticker, df_1, num=num)"
   ]
  },
  {
   "cell_type": "code",
   "execution_count": 9,
   "metadata": {},
   "outputs": [
    {
     "data": {
      "text/plain": [
       "Index(['Open', 'High', 'Low', 'Close', 'Volume', 'w_p', 'ema_fast', 'ema_slow',\n",
       "       'ema_long', 'ema_fast_u', 'ema_fast_d', 'ema_slow_u', 'ema_slow_d',\n",
       "       'vol_avg', 'rsi', 'rsi_avg', 'rsi_u', 'rsi_d', 'rsi_signal'],\n",
       "      dtype='object')"
      ]
     },
     "execution_count": 9,
     "metadata": {},
     "output_type": "execute_result"
    }
   ],
   "source": [
    "df_1.columns"
   ]
  },
  {
   "cell_type": "code",
   "execution_count": 10,
   "metadata": {},
   "outputs": [
    {
     "data": {
      "text/plain": [
       "Open          float64\n",
       "High          float64\n",
       "Low           float64\n",
       "Close         float64\n",
       "Volume        float64\n",
       "w_p           float64\n",
       "ema_fast      float64\n",
       "ema_slow      float64\n",
       "ema_long      float64\n",
       "ema_fast_u    float64\n",
       "ema_fast_d    float64\n",
       "ema_slow_u    float64\n",
       "ema_slow_d    float64\n",
       "vol_avg       float64\n",
       "rsi           float64\n",
       "rsi_avg       float64\n",
       "rsi_u         float64\n",
       "rsi_d         float64\n",
       "rsi_signal    float64\n",
       "dtype: object"
      ]
     },
     "execution_count": 10,
     "metadata": {},
     "output_type": "execute_result"
    }
   ],
   "source": [
    "df_1.dtypes"
   ]
  },
  {
   "cell_type": "code",
   "execution_count": 11,
   "metadata": {},
   "outputs": [
    {
     "data": {
      "text/plain": [
       "DatetimeIndex(['1985-05-15', '1985-05-16', '1985-05-17', '1985-05-20',\n",
       "               '1985-05-21', '1985-05-22', '1985-05-23', '1985-05-24',\n",
       "               '1985-05-28', '1985-05-29',\n",
       "               ...\n",
       "               '1986-03-06', '1986-03-07', '1986-03-10', '1986-03-11',\n",
       "               '1986-03-12', '1986-03-13', '1986-03-14', '1986-03-17',\n",
       "               '1986-03-18', '1986-03-19'],\n",
       "              dtype='datetime64[ns]', name='Date', length=214, freq=None)"
      ]
     },
     "execution_count": 11,
     "metadata": {},
     "output_type": "execute_result"
    }
   ],
   "source": [
    "df_1.index"
   ]
  },
  {
   "cell_type": "code",
   "execution_count": null,
   "metadata": {},
   "outputs": [],
   "source": []
  },
  {
   "cell_type": "code",
   "execution_count": null,
   "metadata": {},
   "outputs": [],
   "source": []
  },
  {
   "cell_type": "code",
   "execution_count": null,
   "metadata": {},
   "outputs": [],
   "source": []
  },
  {
   "cell_type": "code",
   "execution_count": null,
   "metadata": {},
   "outputs": [],
   "source": []
  },
  {
   "cell_type": "markdown",
   "metadata": {},
   "source": [
    "## resample"
   ]
  },
  {
   "cell_type": "raw",
   "metadata": {},
   "source": [
    "aggregation = {'Open'  :'first',\n",
    "               'High'  :'max',\n",
    "               'Low'   :'min',\n",
    "               'Close' :'last',\n",
    "               'Volume':'sum'}\n",
    "dfw = df.resample('1W').agg(aggregation)\n",
    "dfm = df.resample('1M').agg(aggregation)\n",
    "dfq = df.resample('1Q').agg(aggregation)\n",
    "\n",
    "kwargs=dict(volume=True,type='candle',tight_layout=True)\n",
    "mpf.plot(df,**kwargs,title='\\nINTC Daily   ')\n",
    "mpf.plot(dfw,**kwargs,title='\\nINTC Weekly     ')\n",
    "mpf.plot(dfm,**kwargs,title='\\nINTC Monthly        ')\n",
    "mpf.plot(dfq,**kwargs,title='\\nINTC Quarterly         ')"
   ]
  },
  {
   "cell_type": "code",
   "execution_count": null,
   "metadata": {},
   "outputs": [],
   "source": []
  }
 ],
 "metadata": {
  "kernelspec": {
   "display_name": "Python 3",
   "language": "python",
   "name": "python3"
  },
  "language_info": {
   "codemirror_mode": {
    "name": "ipython",
    "version": 3
   },
   "file_extension": ".py",
   "mimetype": "text/x-python",
   "name": "python",
   "nbconvert_exporter": "python",
   "pygments_lexer": "ipython3",
   "version": "3.8.5"
  },
  "toc": {
   "base_numbering": 1,
   "nav_menu": {},
   "number_sections": true,
   "sideBar": true,
   "skip_h1_title": false,
   "title_cell": "Table of Contents",
   "title_sidebar": "Contents",
   "toc_cell": false,
   "toc_position": {},
   "toc_section_display": true,
   "toc_window_display": false
  }
 },
 "nbformat": 4,
 "nbformat_minor": 2
}
