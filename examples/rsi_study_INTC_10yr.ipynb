{
 "cells": [
  {
   "cell_type": "markdown",
   "metadata": {},
   "source": [
    "---\n",
    "\n",
    "# RSI study of  10 Years of INTC Daily Data\n",
    "\n",
    "---\n"
   ]
  },
  {
   "cell_type": "code",
   "execution_count": 1,
   "metadata": {},
   "outputs": [],
   "source": [
    "# This allows multiple outputs from a single jupyter notebook cell:\n",
    "from IPython.core.interactiveshell import InteractiveShell\n",
    "InteractiveShell.ast_node_interactivity = \"all\""
   ]
  },
  {
   "cell_type": "code",
   "execution_count": 2,
   "metadata": {},
   "outputs": [],
   "source": [
    "%matplotlib inline\n",
    "import pandas as pd\n",
    "import numpy as np"
   ]
  },
  {
   "cell_type": "code",
   "execution_count": 3,
   "metadata": {},
   "outputs": [],
   "source": [
    "def _ta_RSI(df, n=14):\n",
    "    # https://github.com/wgong/mplfinance/blob/master/examples/rsi.py\n",
    "#     diff = df.Close.diff().values\n",
    "    diff = df.w_p.diff().values\n",
    "    gains = diff\n",
    "    losses = -diff\n",
    "    with np.errstate(invalid='ignore'):\n",
    "        gains[(gains<0)|np.isnan(gains)] = 0.0\n",
    "        losses[(losses<=0)|np.isnan(losses)] = 1e-10 # we don't want divide by zero/NaN\n",
    "    m = (n-1) / n\n",
    "    ni = 1 / n\n",
    "    g = gains[n] = np.nanmean(gains[:n])\n",
    "    l = losses[n] = np.nanmean(losses[:n])\n",
    "    gains[:n] = losses[:n] = np.nan\n",
    "    for i,v in enumerate(gains[n:],n):\n",
    "        g = gains[i] = ni*v + m*g\n",
    "    for i,v in enumerate(losses[n:],n):\n",
    "        l = losses[i] = ni*v + m*l\n",
    "    rs = gains / losses\n",
    "#     df['rsi'] = 100 - (100/(1+rs))\n",
    "    return 100 - (100/(1+rs))"
   ]
  },
  {
   "cell_type": "code",
   "execution_count": 4,
   "metadata": {},
   "outputs": [
    {
     "data": {
      "text/plain": [
       "(2335, 6)"
      ]
     },
     "execution_count": 4,
     "metadata": {},
     "output_type": "execute_result"
    },
    {
     "data": {
      "text/html": [
       "<div>\n",
       "<style scoped>\n",
       "    .dataframe tbody tr th:only-of-type {\n",
       "        vertical-align: middle;\n",
       "    }\n",
       "\n",
       "    .dataframe tbody tr th {\n",
       "        vertical-align: top;\n",
       "    }\n",
       "\n",
       "    .dataframe thead th {\n",
       "        text-align: right;\n",
       "    }\n",
       "</style>\n",
       "<table border=\"1\" class=\"dataframe\">\n",
       "  <thead>\n",
       "    <tr style=\"text-align: right;\">\n",
       "      <th></th>\n",
       "      <th>Open</th>\n",
       "      <th>High</th>\n",
       "      <th>Low</th>\n",
       "      <th>Close</th>\n",
       "      <th>Adj Close</th>\n",
       "      <th>Volume</th>\n",
       "    </tr>\n",
       "    <tr>\n",
       "      <th>Date</th>\n",
       "      <th></th>\n",
       "      <th></th>\n",
       "      <th></th>\n",
       "      <th></th>\n",
       "      <th></th>\n",
       "      <th></th>\n",
       "    </tr>\n",
       "  </thead>\n",
       "  <tbody>\n",
       "    <tr>\n",
       "      <th>1995-01-03</th>\n",
       "      <td>3.976563</td>\n",
       "      <td>4.000975</td>\n",
       "      <td>3.937500</td>\n",
       "      <td>3.984375</td>\n",
       "      <td>2.669861</td>\n",
       "      <td>41721600</td>\n",
       "    </tr>\n",
       "    <tr>\n",
       "      <th>1995-01-04</th>\n",
       "      <td>4.000000</td>\n",
       "      <td>4.023438</td>\n",
       "      <td>3.953125</td>\n",
       "      <td>3.976563</td>\n",
       "      <td>2.664625</td>\n",
       "      <td>41865600</td>\n",
       "    </tr>\n",
       "    <tr>\n",
       "      <th>1995-01-05</th>\n",
       "      <td>3.984375</td>\n",
       "      <td>4.062500</td>\n",
       "      <td>3.976563</td>\n",
       "      <td>4.007813</td>\n",
       "      <td>2.685566</td>\n",
       "      <td>60480000</td>\n",
       "    </tr>\n",
       "  </tbody>\n",
       "</table>\n",
       "</div>"
      ],
      "text/plain": [
       "                Open      High       Low     Close  Adj Close    Volume\n",
       "Date                                                                   \n",
       "1995-01-03  3.976563  4.000975  3.937500  3.984375   2.669861  41721600\n",
       "1995-01-04  4.000000  4.023438  3.953125  3.976563   2.664625  41865600\n",
       "1995-01-05  3.984375  4.062500  3.976563  4.007813   2.685566  60480000"
      ]
     },
     "execution_count": 4,
     "metadata": {},
     "output_type": "execute_result"
    },
    {
     "data": {
      "text/html": [
       "<div>\n",
       "<style scoped>\n",
       "    .dataframe tbody tr th:only-of-type {\n",
       "        vertical-align: middle;\n",
       "    }\n",
       "\n",
       "    .dataframe tbody tr th {\n",
       "        vertical-align: top;\n",
       "    }\n",
       "\n",
       "    .dataframe thead th {\n",
       "        text-align: right;\n",
       "    }\n",
       "</style>\n",
       "<table border=\"1\" class=\"dataframe\">\n",
       "  <thead>\n",
       "    <tr style=\"text-align: right;\">\n",
       "      <th></th>\n",
       "      <th>Open</th>\n",
       "      <th>High</th>\n",
       "      <th>Low</th>\n",
       "      <th>Close</th>\n",
       "      <th>Adj Close</th>\n",
       "      <th>Volume</th>\n",
       "    </tr>\n",
       "    <tr>\n",
       "      <th>Date</th>\n",
       "      <th></th>\n",
       "      <th></th>\n",
       "      <th></th>\n",
       "      <th></th>\n",
       "      <th></th>\n",
       "      <th></th>\n",
       "    </tr>\n",
       "  </thead>\n",
       "  <tbody>\n",
       "    <tr>\n",
       "      <th>2004-04-06</th>\n",
       "      <td>28.25</td>\n",
       "      <td>28.450001</td>\n",
       "      <td>28.040001</td>\n",
       "      <td>28.270000</td>\n",
       "      <td>19.368675</td>\n",
       "      <td>70147800</td>\n",
       "    </tr>\n",
       "    <tr>\n",
       "      <th>2004-04-07</th>\n",
       "      <td>28.08</td>\n",
       "      <td>28.129999</td>\n",
       "      <td>27.480000</td>\n",
       "      <td>27.620001</td>\n",
       "      <td>18.923342</td>\n",
       "      <td>72680200</td>\n",
       "    </tr>\n",
       "    <tr>\n",
       "      <th>2004-04-08</th>\n",
       "      <td>28.08</td>\n",
       "      <td>28.139999</td>\n",
       "      <td>27.200001</td>\n",
       "      <td>27.370001</td>\n",
       "      <td>18.752058</td>\n",
       "      <td>71791400</td>\n",
       "    </tr>\n",
       "  </tbody>\n",
       "</table>\n",
       "</div>"
      ],
      "text/plain": [
       "             Open       High        Low      Close  Adj Close    Volume\n",
       "Date                                                                   \n",
       "2004-04-06  28.25  28.450001  28.040001  28.270000  19.368675  70147800\n",
       "2004-04-07  28.08  28.129999  27.480000  27.620001  18.923342  72680200\n",
       "2004-04-08  28.08  28.139999  27.200001  27.370001  18.752058  71791400"
      ]
     },
     "execution_count": 4,
     "metadata": {},
     "output_type": "execute_result"
    }
   ],
   "source": [
    "df = pd.read_csv('data/yahoofinance-INTC-19950101-20040412.csv',index_col=0,parse_dates=True)\n",
    "df.shape\n",
    "df.head(3)\n",
    "df.tail(3)"
   ]
  },
  {
   "cell_type": "code",
   "execution_count": 5,
   "metadata": {},
   "outputs": [],
   "source": [
    "LEN = df.shape[0]\n",
    "SPAN = 120"
   ]
  },
  {
   "cell_type": "code",
   "execution_count": 6,
   "metadata": {},
   "outputs": [
    {
     "data": {
      "text/plain": [
       "(120, 6)"
      ]
     },
     "execution_count": 6,
     "metadata": {},
     "output_type": "execute_result"
    },
    {
     "data": {
      "text/html": [
       "<div>\n",
       "<style scoped>\n",
       "    .dataframe tbody tr th:only-of-type {\n",
       "        vertical-align: middle;\n",
       "    }\n",
       "\n",
       "    .dataframe tbody tr th {\n",
       "        vertical-align: top;\n",
       "    }\n",
       "\n",
       "    .dataframe thead th {\n",
       "        text-align: right;\n",
       "    }\n",
       "</style>\n",
       "<table border=\"1\" class=\"dataframe\">\n",
       "  <thead>\n",
       "    <tr style=\"text-align: right;\">\n",
       "      <th></th>\n",
       "      <th>Open</th>\n",
       "      <th>High</th>\n",
       "      <th>Low</th>\n",
       "      <th>Close</th>\n",
       "      <th>Adj Close</th>\n",
       "      <th>Volume</th>\n",
       "    </tr>\n",
       "    <tr>\n",
       "      <th>Date</th>\n",
       "      <th></th>\n",
       "      <th></th>\n",
       "      <th></th>\n",
       "      <th></th>\n",
       "      <th></th>\n",
       "      <th></th>\n",
       "    </tr>\n",
       "  </thead>\n",
       "  <tbody>\n",
       "    <tr>\n",
       "      <th>1995-01-03</th>\n",
       "      <td>3.976563</td>\n",
       "      <td>4.000975</td>\n",
       "      <td>3.937500</td>\n",
       "      <td>3.984375</td>\n",
       "      <td>2.669861</td>\n",
       "      <td>41721600</td>\n",
       "    </tr>\n",
       "    <tr>\n",
       "      <th>1995-01-04</th>\n",
       "      <td>4.000000</td>\n",
       "      <td>4.023438</td>\n",
       "      <td>3.953125</td>\n",
       "      <td>3.976563</td>\n",
       "      <td>2.664625</td>\n",
       "      <td>41865600</td>\n",
       "    </tr>\n",
       "    <tr>\n",
       "      <th>1995-01-05</th>\n",
       "      <td>3.984375</td>\n",
       "      <td>4.062500</td>\n",
       "      <td>3.976563</td>\n",
       "      <td>4.007813</td>\n",
       "      <td>2.685566</td>\n",
       "      <td>60480000</td>\n",
       "    </tr>\n",
       "    <tr>\n",
       "      <th>1995-01-06</th>\n",
       "      <td>4.007813</td>\n",
       "      <td>4.070313</td>\n",
       "      <td>4.000000</td>\n",
       "      <td>4.062500</td>\n",
       "      <td>2.722212</td>\n",
       "      <td>56316800</td>\n",
       "    </tr>\n",
       "    <tr>\n",
       "      <th>1995-01-09</th>\n",
       "      <td>4.054688</td>\n",
       "      <td>4.125000</td>\n",
       "      <td>4.054688</td>\n",
       "      <td>4.125000</td>\n",
       "      <td>2.764089</td>\n",
       "      <td>75056000</td>\n",
       "    </tr>\n",
       "    <tr>\n",
       "      <th>...</th>\n",
       "      <td>...</td>\n",
       "      <td>...</td>\n",
       "      <td>...</td>\n",
       "      <td>...</td>\n",
       "      <td>...</td>\n",
       "      <td>...</td>\n",
       "    </tr>\n",
       "    <tr>\n",
       "      <th>1995-06-16</th>\n",
       "      <td>7.218750</td>\n",
       "      <td>7.335938</td>\n",
       "      <td>7.156250</td>\n",
       "      <td>7.257813</td>\n",
       "      <td>4.870484</td>\n",
       "      <td>122411200</td>\n",
       "    </tr>\n",
       "    <tr>\n",
       "      <th>1995-06-19</th>\n",
       "      <td>7.312500</td>\n",
       "      <td>7.765625</td>\n",
       "      <td>7.296875</td>\n",
       "      <td>7.718750</td>\n",
       "      <td>5.179803</td>\n",
       "      <td>127876000</td>\n",
       "    </tr>\n",
       "    <tr>\n",
       "      <th>1995-06-20</th>\n",
       "      <td>7.921875</td>\n",
       "      <td>8.140625</td>\n",
       "      <td>7.828125</td>\n",
       "      <td>8.125000</td>\n",
       "      <td>5.452423</td>\n",
       "      <td>141030400</td>\n",
       "    </tr>\n",
       "    <tr>\n",
       "      <th>1995-06-21</th>\n",
       "      <td>8.265625</td>\n",
       "      <td>8.273438</td>\n",
       "      <td>7.921875</td>\n",
       "      <td>7.957025</td>\n",
       "      <td>5.339701</td>\n",
       "      <td>119708800</td>\n",
       "    </tr>\n",
       "    <tr>\n",
       "      <th>1995-06-22</th>\n",
       "      <td>7.984375</td>\n",
       "      <td>8.226563</td>\n",
       "      <td>7.943350</td>\n",
       "      <td>8.171875</td>\n",
       "      <td>5.483882</td>\n",
       "      <td>70946400</td>\n",
       "    </tr>\n",
       "  </tbody>\n",
       "</table>\n",
       "<p>120 rows × 6 columns</p>\n",
       "</div>"
      ],
      "text/plain": [
       "                Open      High       Low     Close  Adj Close     Volume\n",
       "Date                                                                    \n",
       "1995-01-03  3.976563  4.000975  3.937500  3.984375   2.669861   41721600\n",
       "1995-01-04  4.000000  4.023438  3.953125  3.976563   2.664625   41865600\n",
       "1995-01-05  3.984375  4.062500  3.976563  4.007813   2.685566   60480000\n",
       "1995-01-06  4.007813  4.070313  4.000000  4.062500   2.722212   56316800\n",
       "1995-01-09  4.054688  4.125000  4.054688  4.125000   2.764089   75056000\n",
       "...              ...       ...       ...       ...        ...        ...\n",
       "1995-06-16  7.218750  7.335938  7.156250  7.257813   4.870484  122411200\n",
       "1995-06-19  7.312500  7.765625  7.296875  7.718750   5.179803  127876000\n",
       "1995-06-20  7.921875  8.140625  7.828125  8.125000   5.452423  141030400\n",
       "1995-06-21  8.265625  8.273438  7.921875  7.957025   5.339701  119708800\n",
       "1995-06-22  7.984375  8.226563  7.943350  8.171875   5.483882   70946400\n",
       "\n",
       "[120 rows x 6 columns]"
      ]
     },
     "execution_count": 6,
     "metadata": {},
     "output_type": "execute_result"
    }
   ],
   "source": [
    "ix_start, ix_stop = (-LEN) , (-LEN+SPAN)\n",
    "df_1 = df.iloc[ix_start : ix_stop]\n",
    "df_1.shape\n",
    "df_1"
   ]
  },
  {
   "cell_type": "code",
   "execution_count": 7,
   "metadata": {},
   "outputs": [
    {
     "data": {
      "text/plain": [
       "(Timestamp('1995-01-03 00:00:00'), Timestamp('1995-06-22 00:00:00'))"
      ]
     },
     "execution_count": 7,
     "metadata": {},
     "output_type": "execute_result"
    }
   ],
   "source": [
    "df.iloc[ix_start].name, df.iloc[ix_stop-1].name"
   ]
  },
  {
   "cell_type": "markdown",
   "metadata": {},
   "source": [
    "Interesting that iloc slicing is exclusive, but loc slicing is inclusive"
   ]
  },
  {
   "cell_type": "code",
   "execution_count": 8,
   "metadata": {},
   "outputs": [
    {
     "data": {
      "text/plain": [
       "(120, 6)"
      ]
     },
     "execution_count": 8,
     "metadata": {},
     "output_type": "execute_result"
    },
    {
     "data": {
      "text/html": [
       "<div>\n",
       "<style scoped>\n",
       "    .dataframe tbody tr th:only-of-type {\n",
       "        vertical-align: middle;\n",
       "    }\n",
       "\n",
       "    .dataframe tbody tr th {\n",
       "        vertical-align: top;\n",
       "    }\n",
       "\n",
       "    .dataframe thead th {\n",
       "        text-align: right;\n",
       "    }\n",
       "</style>\n",
       "<table border=\"1\" class=\"dataframe\">\n",
       "  <thead>\n",
       "    <tr style=\"text-align: right;\">\n",
       "      <th></th>\n",
       "      <th>Open</th>\n",
       "      <th>High</th>\n",
       "      <th>Low</th>\n",
       "      <th>Close</th>\n",
       "      <th>Adj Close</th>\n",
       "      <th>Volume</th>\n",
       "    </tr>\n",
       "    <tr>\n",
       "      <th>Date</th>\n",
       "      <th></th>\n",
       "      <th></th>\n",
       "      <th></th>\n",
       "      <th></th>\n",
       "      <th></th>\n",
       "      <th></th>\n",
       "    </tr>\n",
       "  </thead>\n",
       "  <tbody>\n",
       "    <tr>\n",
       "      <th>1995-01-03</th>\n",
       "      <td>3.976563</td>\n",
       "      <td>4.000975</td>\n",
       "      <td>3.937500</td>\n",
       "      <td>3.984375</td>\n",
       "      <td>2.669861</td>\n",
       "      <td>41721600</td>\n",
       "    </tr>\n",
       "    <tr>\n",
       "      <th>1995-01-04</th>\n",
       "      <td>4.000000</td>\n",
       "      <td>4.023438</td>\n",
       "      <td>3.953125</td>\n",
       "      <td>3.976563</td>\n",
       "      <td>2.664625</td>\n",
       "      <td>41865600</td>\n",
       "    </tr>\n",
       "    <tr>\n",
       "      <th>1995-01-05</th>\n",
       "      <td>3.984375</td>\n",
       "      <td>4.062500</td>\n",
       "      <td>3.976563</td>\n",
       "      <td>4.007813</td>\n",
       "      <td>2.685566</td>\n",
       "      <td>60480000</td>\n",
       "    </tr>\n",
       "    <tr>\n",
       "      <th>1995-01-06</th>\n",
       "      <td>4.007813</td>\n",
       "      <td>4.070313</td>\n",
       "      <td>4.000000</td>\n",
       "      <td>4.062500</td>\n",
       "      <td>2.722212</td>\n",
       "      <td>56316800</td>\n",
       "    </tr>\n",
       "    <tr>\n",
       "      <th>1995-01-09</th>\n",
       "      <td>4.054688</td>\n",
       "      <td>4.125000</td>\n",
       "      <td>4.054688</td>\n",
       "      <td>4.125000</td>\n",
       "      <td>2.764089</td>\n",
       "      <td>75056000</td>\n",
       "    </tr>\n",
       "    <tr>\n",
       "      <th>...</th>\n",
       "      <td>...</td>\n",
       "      <td>...</td>\n",
       "      <td>...</td>\n",
       "      <td>...</td>\n",
       "      <td>...</td>\n",
       "      <td>...</td>\n",
       "    </tr>\n",
       "    <tr>\n",
       "      <th>1995-06-16</th>\n",
       "      <td>7.218750</td>\n",
       "      <td>7.335938</td>\n",
       "      <td>7.156250</td>\n",
       "      <td>7.257813</td>\n",
       "      <td>4.870484</td>\n",
       "      <td>122411200</td>\n",
       "    </tr>\n",
       "    <tr>\n",
       "      <th>1995-06-19</th>\n",
       "      <td>7.312500</td>\n",
       "      <td>7.765625</td>\n",
       "      <td>7.296875</td>\n",
       "      <td>7.718750</td>\n",
       "      <td>5.179803</td>\n",
       "      <td>127876000</td>\n",
       "    </tr>\n",
       "    <tr>\n",
       "      <th>1995-06-20</th>\n",
       "      <td>7.921875</td>\n",
       "      <td>8.140625</td>\n",
       "      <td>7.828125</td>\n",
       "      <td>8.125000</td>\n",
       "      <td>5.452423</td>\n",
       "      <td>141030400</td>\n",
       "    </tr>\n",
       "    <tr>\n",
       "      <th>1995-06-21</th>\n",
       "      <td>8.265625</td>\n",
       "      <td>8.273438</td>\n",
       "      <td>7.921875</td>\n",
       "      <td>7.957025</td>\n",
       "      <td>5.339701</td>\n",
       "      <td>119708800</td>\n",
       "    </tr>\n",
       "    <tr>\n",
       "      <th>1995-06-22</th>\n",
       "      <td>7.984375</td>\n",
       "      <td>8.226563</td>\n",
       "      <td>7.943350</td>\n",
       "      <td>8.171875</td>\n",
       "      <td>5.483882</td>\n",
       "      <td>70946400</td>\n",
       "    </tr>\n",
       "  </tbody>\n",
       "</table>\n",
       "<p>120 rows × 6 columns</p>\n",
       "</div>"
      ],
      "text/plain": [
       "                Open      High       Low     Close  Adj Close     Volume\n",
       "Date                                                                    \n",
       "1995-01-03  3.976563  4.000975  3.937500  3.984375   2.669861   41721600\n",
       "1995-01-04  4.000000  4.023438  3.953125  3.976563   2.664625   41865600\n",
       "1995-01-05  3.984375  4.062500  3.976563  4.007813   2.685566   60480000\n",
       "1995-01-06  4.007813  4.070313  4.000000  4.062500   2.722212   56316800\n",
       "1995-01-09  4.054688  4.125000  4.054688  4.125000   2.764089   75056000\n",
       "...              ...       ...       ...       ...        ...        ...\n",
       "1995-06-16  7.218750  7.335938  7.156250  7.257813   4.870484  122411200\n",
       "1995-06-19  7.312500  7.765625  7.296875  7.718750   5.179803  127876000\n",
       "1995-06-20  7.921875  8.140625  7.828125  8.125000   5.452423  141030400\n",
       "1995-06-21  8.265625  8.273438  7.921875  7.957025   5.339701  119708800\n",
       "1995-06-22  7.984375  8.226563  7.943350  8.171875   5.483882   70946400\n",
       "\n",
       "[120 rows x 6 columns]"
      ]
     },
     "execution_count": 8,
     "metadata": {},
     "output_type": "execute_result"
    }
   ],
   "source": [
    "df_2 = df.loc[df.iloc[ix_start].name : df.iloc[ix_stop-1].name] \n",
    "df_2.shape\n",
    "df_2"
   ]
  },
  {
   "cell_type": "markdown",
   "metadata": {},
   "source": [
    "---\n",
    "\n",
    "#### We can, of course, plot a basic ohlc or candlestick plot:"
   ]
  },
  {
   "cell_type": "code",
   "execution_count": 9,
   "metadata": {
    "scrolled": false
   },
   "outputs": [
    {
     "data": {
      "text/plain": [
       "'0.12.8b9'"
      ]
     },
     "execution_count": 9,
     "metadata": {},
     "output_type": "execute_result"
    }
   ],
   "source": [
    "import mplfinance as mpf\n",
    "mpf.__version__\n",
    "# mpf.plot(df,volume=True,type='candle')"
   ]
  },
  {
   "cell_type": "code",
   "execution_count": 10,
   "metadata": {},
   "outputs": [
    {
     "data": {
      "image/png": "[encoded data removed]",
      "text/plain": [
       "<Figure size 800x575 with 4 Axes>"
      ]
     },
     "metadata": {},
     "output_type": "display_data"
    }
   ],
   "source": [
    "mpf.plot(df_1,volume=True,type='candle')"
   ]
  },
  {
   "cell_type": "code",
   "execution_count": 11,
   "metadata": {},
   "outputs": [],
   "source": [
    "RSI_PERIOD, RSI_AVG = 100, 25\n",
    "band_width = 0.6\n",
    "EMA_FAST, EMA_SLOW, EMA_LONG = 15, 50, 150\n",
    "EMA_FAST_SCALE = 1.1  # EMA10 band half-width factor\n",
    "EMA_SLOW_SCALE = 2.0 "
   ]
  },
  {
   "cell_type": "code",
   "execution_count": 12,
   "metadata": {},
   "outputs": [],
   "source": [
    "\n",
    "df[\"w_p\"] = 0.25*(2*df[\"Close\"] + df[\"High\"] + df[\"Low\"])\n",
    "df[\"ema_fast\"] = df.w_p.ewm(span=EMA_FAST).mean()\n",
    "df[\"ema_slow\"] = df.w_p.ewm(span=EMA_SLOW).mean()\n",
    "df[\"ema_long\"] = df.w_p.ewm(span=EMA_LONG).mean()\n",
    "\n",
    "# range\n",
    "hl_mean_fast = (df.High - df.Low).ewm(span=int(EMA_FAST/2)).mean()\n",
    "df[\"ema_fast_u\"] =  df.ema_fast + 0.5*hl_mean_fast * EMA_FAST_SCALE\n",
    "df[\"ema_fast_d\"] =  df.ema_fast - 0.5*hl_mean_fast * EMA_FAST_SCALE\n",
    "\n",
    "hl_mean_slow = (df.High - df.Low).ewm(span=int(EMA_SLOW/2)).mean()\n",
    "df[\"ema_slow_u\"] =  df.ema_slow + 0.5*hl_mean_slow * EMA_SLOW_SCALE\n",
    "df[\"ema_slow_d\"] =  df.ema_slow - 0.5*hl_mean_slow * EMA_SLOW_SCALE\n",
    "df[\"rsi\"] = _ta_RSI(df,n=RSI_PERIOD)\n",
    "df[\"rsi_avg\"] = df.rsi.ewm(span=RSI_AVG).mean()\n",
    "df[\"rsi_u\"] = df[\"rsi_avg\"] + band_width\n",
    "df[\"rsi_d\"] = df['rsi_avg'] - band_width\n",
    "df[\"rsi_50\"] = 50"
   ]
  },
  {
   "cell_type": "code",
   "execution_count": 13,
   "metadata": {},
   "outputs": [],
   "source": [
    "SPAN = 200\n",
    "OVERLAP = 40\n",
    "intervals = []\n",
    "for ix_stop in range(LEN, RSI_PERIOD, -SPAN):\n",
    "    ix_start = ix_stop - SPAN -int(OVERLAP/2)\n",
    "    intervals.append((ix_start if ix_start > 0 else 0, ix_stop+int(OVERLAP/2)))\n",
    "#     df_1 = df.iloc[ix_start : ix_stop]\n",
    "    # df_1.shape\n",
    "#     print(f\"chart-{num}\")\n",
    "#     df_1"
   ]
  },
  {
   "cell_type": "code",
   "execution_count": 19,
   "metadata": {
    "scrolled": false
   },
   "outputs": [
    {
     "name": "stderr",
     "output_type": "stream",
     "text": [
      "<ipython-input-19-681bd7e89dc6>:23: SettingWithCopyWarning: \n",
      "A value is trying to be set on a copy of a slice from a DataFrame.\n",
      "Try using .loc[row_indexer,col_indexer] = value instead\n",
      "\n",
      "See the caveats in the documentation: https://pandas.pydata.org/pandas-docs/stable/user_guide/indexing.html#returning-a-view-versus-a-copy\n",
      "  df_1[\"rsi_50\"] = rsi_min\n"
     ]
    },
    {
     "name": "stdout",
     "output_type": "stream",
     "text": [
      "images/INTC-1.png\n",
      "images/INTC-2.png\n"
     ]
    },
    {
     "name": "stderr",
     "output_type": "stream",
     "text": [
      "<ipython-input-19-681bd7e89dc6>:23: SettingWithCopyWarning: \n",
      "A value is trying to be set on a copy of a slice from a DataFrame.\n",
      "Try using .loc[row_indexer,col_indexer] = value instead\n",
      "\n",
      "See the caveats in the documentation: https://pandas.pydata.org/pandas-docs/stable/user_guide/indexing.html#returning-a-view-versus-a-copy\n",
      "  df_1[\"rsi_50\"] = rsi_min\n"
     ]
    },
    {
     "name": "stdout",
     "output_type": "stream",
     "text": [
      "images/INTC-3.png\n",
      "images/INTC-4.png\n",
      "images/INTC-5.png\n",
      "images/INTC-6.png\n",
      "images/INTC-7.png\n",
      "images/INTC-8.png\n",
      "images/INTC-9.png\n",
      "images/INTC-10.png\n",
      "images/INTC-11.png\n",
      "images/INTC-12.png\n"
     ]
    }
   ],
   "source": [
    "num = 0\n",
    "FIGURE_WIDTH, FIGURE_HEIGHT =  16, 14\n",
    "for ix_start,ix_stop in intervals[::-1]:\n",
    "    num += 1\n",
    "    \n",
    "#     if num > 2:  break\n",
    "        \n",
    "    df_1 = df.iloc[ix_start : ix_stop]\n",
    "    \n",
    "    light_black = '#8F8E83'\n",
    "    # ema_fast_plot = mpf.make_addplot(df_1[\"ema_fast\"], panel=0, color='c', linestyle=\"dashed\")\n",
    "    ema_fast_u_plot = mpf.make_addplot(df_1[\"ema_fast_u\"], panel=0, color=light_black, linestyle=\"solid\")\n",
    "    ema_fast_d_plot = mpf.make_addplot(df_1[\"ema_fast_d\"], panel=0, color=light_black, linestyle=\"solid\")\n",
    "    ema_slow_plot = mpf.make_addplot(df_1[\"ema_slow\"], panel=0, color='red', linestyle=\"solid\")\n",
    "#     ema_slow_u_plot = mpf.make_addplot(df_1[\"ema_slow_u\"], panel=0, color='b')\n",
    "#     ema_slow_d_plot = mpf.make_addplot(df_1[\"ema_slow_d\"], panel=0, color='b')\n",
    "    ema_long_plot = mpf.make_addplot(df_1[\"ema_long\"], panel=0, width=3, color='b')  # magenta\n",
    "    \n",
    "    rsi_min = df_1.min(axis=0)[[\"rsi\"]].min()\n",
    "    rsi_max = df_1.max(axis=0)[[\"rsi\"]].max()\n",
    "    rsi_50_color = \"#F0DC16\"  # yellow\n",
    "    if rsi_min >= 50:\n",
    "        df_1[\"rsi_50\"] = rsi_min\n",
    "        rsi_50_color = \"g\"\n",
    "    if rsi_max <= 50:\n",
    "        df_1[\"rsi_50\"] = rsi_max\n",
    "        rsi_50_color = \"r\"\n",
    "    rsi_50_plot = mpf.make_addplot(df_1[\"rsi_50\"], panel=1, color=rsi_50_color, width=3, linestyle=\"solid\", \n",
    "                                   ylim=(rsi_min,rsi_max))\n",
    "    rsi_plot = mpf.make_addplot(df_1[\"rsi\"], panel=1, color='black', width=1, title=\"INTC-RSI\",\n",
    "                                fill_between=dict(y1=df_1[\"rsi_d\"].values,y2=df_1[\"rsi_u\"].values,alpha=0.15,color='b'),\n",
    "                                ylim=(rsi_min,rsi_max))\n",
    "    rsi_avg_plot = mpf.make_addplot(df_1[\"rsi_avg\"], panel=1, color='red', linestyle=\"dashed\", \n",
    "                                    ylim=(rsi_min,rsi_max))\n",
    "#     rsi_u_plot = mpf.make_addplot(df_1[\"rsi_u\"], panel=1, color='b', ylim=(rsi_min,rsi_max))\n",
    "#     rsi_d_plot = mpf.make_addplot(df_1[\"rsi_d\"], panel=1, color='b', ylim=(rsi_min,rsi_max))\n",
    "\n",
    "    plots = [\n",
    "            # panel-0\n",
    "            ema_fast_u_plot, ema_fast_d_plot, \n",
    "            ema_slow_plot, ema_long_plot , # ema_slow_u_plot, ema_slow_d_plot, \n",
    "            # panel-1\n",
    "            rsi_50_plot, rsi_plot, rsi_avg_plot # , rsi_u_plot, rsi_d_plot \n",
    "        ]\n",
    "\n",
    "    file_img = f\"images/INTC-{num}.png\"\n",
    "    print(file_img)\n",
    "    mpf.plot(df_1, type='candle', \n",
    "            style='yahoo', \n",
    "            fill_between=dict(y1=df_1[\"ema_slow_d\"].values,y2=df_1[\"ema_slow_u\"].values,alpha=0.15,color='b'),\n",
    "            panel_ratios=(4,4),\n",
    "            # mav=(EMA_FAST), \n",
    "            addplot=plots, \n",
    "#             title=_title_xy(ticker),\n",
    "#             volume=True, volume_panel=2, \n",
    "            ylabel=\"\", ylabel_lower='',\n",
    "            xrotation=0,\n",
    "            datetime_format='%Y-%m-%d',\n",
    "            savefig=file_img,\n",
    "            figsize=(FIGURE_WIDTH,FIGURE_HEIGHT),\n",
    "            tight_layout=True,\n",
    "            show_nontrading=True\n",
    "        )    \n",
    "    \n",
    "        # mpf.plot(df_1,type='candle',volume=False,figscale=1.5,addplot=plots,panel_ratios=(1,1.5), \n",
    "        # xrotation=20, datetime_format='%Y-%m-%d')"
   ]
  },
  {
   "cell_type": "code",
   "execution_count": null,
   "metadata": {},
   "outputs": [],
   "source": []
  },
  {
   "cell_type": "code",
   "execution_count": null,
   "metadata": {},
   "outputs": [],
   "source": []
  },
  {
   "cell_type": "code",
   "execution_count": null,
   "metadata": {},
   "outputs": [],
   "source": []
  },
  {
   "cell_type": "code",
   "execution_count": null,
   "metadata": {},
   "outputs": [],
   "source": []
  },
  {
   "cell_type": "markdown",
   "metadata": {},
   "source": [
    "## resample"
   ]
  },
  {
   "cell_type": "raw",
   "metadata": {},
   "source": [
    "aggregation = {'Open'  :'first',\n",
    "               'High'  :'max',\n",
    "               'Low'   :'min',\n",
    "               'Close' :'last',\n",
    "               'Volume':'sum'}\n",
    "dfw = df.resample('1W').agg(aggregation)\n",
    "dfm = df.resample('1M').agg(aggregation)\n",
    "dfq = df.resample('1Q').agg(aggregation)\n",
    "\n",
    "kwargs=dict(volume=True,type='candle',tight_layout=True)\n",
    "mpf.plot(df,**kwargs,title='\\nINTC Daily   ')\n",
    "mpf.plot(dfw,**kwargs,title='\\nINTC Weekly     ')\n",
    "mpf.plot(dfm,**kwargs,title='\\nINTC Monthly        ')\n",
    "mpf.plot(dfq,**kwargs,title='\\nINTC Quarterly         ')"
   ]
  },
  {
   "cell_type": "code",
   "execution_count": null,
   "metadata": {},
   "outputs": [],
   "source": []
  }
 ],
 "metadata": {
  "kernelspec": {
   "display_name": "Python 3",
   "language": "python",
   "name": "python3"
  },
  "language_info": {
   "codemirror_mode": {
    "name": "ipython",
    "version": 3
   },
   "file_extension": ".py",
   "mimetype": "text/x-python",
   "name": "python",
   "nbconvert_exporter": "python",
   "pygments_lexer": "ipython3",
   "version": "3.8.5"
  },
  "toc": {
   "base_numbering": 1,
   "nav_menu": {},
   "number_sections": true,
   "sideBar": true,
   "skip_h1_title": false,
   "title_cell": "Table of Contents",
   "title_sidebar": "Contents",
   "toc_cell": false,
   "toc_position": {},
   "toc_section_display": true,
   "toc_window_display": false
  }
 },
 "nbformat": 4,
 "nbformat_minor": 2
}
