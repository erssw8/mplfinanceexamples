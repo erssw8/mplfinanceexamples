{
 "cells": [
  {
   "cell_type": "code",
   "execution_count": 1,
   "metadata": {},
   "outputs": [
    {
     "name": "stdout",
     "output_type": "stream",
     "text": [
      "C:\\gwgllc\\stooq.com\\data\\daily\\us\n"
     ]
    }
   ],
   "source": [
    "!cd"
   ]
  },
  {
   "cell_type": "code",
   "execution_count": 2,
   "metadata": {},
   "outputs": [],
   "source": [
    "import os"
   ]
  },
  {
   "cell_type": "code",
   "execution_count": 23,
   "metadata": {},
   "outputs": [],
   "source": [
    "import pandas as pd"
   ]
  },
  {
   "cell_type": "code",
   "execution_count": 28,
   "metadata": {},
   "outputs": [],
   "source": [
    "n = 0\n",
    "data = []\n",
    "tickers = set()\n",
    "\n",
    "for root, dirs, files in os.walk(\".\"):\n",
    "#     if n > 1: break\n",
    "    if not dirs and files and files[0].endswith(\".us.txt\"):\n",
    "#         print(root, dirs, files)\n",
    "        tmp = root.split(\"\\\\\")[1].split()\n",
    "        exchg = tmp[0].strip()\n",
    "        type = tmp[1].strip()\n",
    "        for f in files:\n",
    "            path = os.path.join(root, f)\n",
    "            ticker = f.split(\".\")[0].upper()\n",
    "            if ticker not in tickers:\n",
    "                data.append([ticker, type, exchg, path])\n",
    "                tickers.add(ticker)\n",
    "#         n += 1"
   ]
  },
  {
   "cell_type": "code",
   "execution_count": 29,
   "metadata": {},
   "outputs": [
    {
     "data": {
      "text/plain": [
       "(11695, 11695)"
      ]
     },
     "execution_count": 29,
     "metadata": {},
     "output_type": "execute_result"
    }
   ],
   "source": [
    "len(data), len(tickers)"
   ]
  },
  {
   "cell_type": "code",
   "execution_count": 30,
   "metadata": {},
   "outputs": [
    {
     "data": {
      "text/plain": [
       "[['AADR', 'etfs', 'nasdaq', '.\\\\nasdaq etfs\\\\aadr.us.txt'],\n",
       " ['AAXJ', 'etfs', 'nasdaq', '.\\\\nasdaq etfs\\\\aaxj.us.txt']]"
      ]
     },
     "execution_count": 30,
     "metadata": {},
     "output_type": "execute_result"
    }
   ],
   "source": [
    "data[:2]"
   ]
  },
  {
   "cell_type": "code",
   "execution_count": 31,
   "metadata": {},
   "outputs": [],
   "source": [
    "df = pd.DataFrame(data, columns=[\"ticker\",\"type\",\"exchg\",\"file_path\"])"
   ]
  },
  {
   "cell_type": "code",
   "execution_count": 32,
   "metadata": {},
   "outputs": [
    {
     "data": {
      "text/html": [
       "<div>\n",
       "<style scoped>\n",
       "    .dataframe tbody tr th:only-of-type {\n",
       "        vertical-align: middle;\n",
       "    }\n",
       "\n",
       "    .dataframe tbody tr th {\n",
       "        vertical-align: top;\n",
       "    }\n",
       "\n",
       "    .dataframe thead th {\n",
       "        text-align: right;\n",
       "    }\n",
       "</style>\n",
       "<table border=\"1\" class=\"dataframe\">\n",
       "  <thead>\n",
       "    <tr style=\"text-align: right;\">\n",
       "      <th></th>\n",
       "      <th>ticker</th>\n",
       "      <th>type</th>\n",
       "      <th>exchg</th>\n",
       "      <th>file_path</th>\n",
       "    </tr>\n",
       "  </thead>\n",
       "  <tbody>\n",
       "    <tr>\n",
       "      <th>0</th>\n",
       "      <td>AADR</td>\n",
       "      <td>etfs</td>\n",
       "      <td>nasdaq</td>\n",
       "      <td>.\\nasdaq etfs\\aadr.us.txt</td>\n",
       "    </tr>\n",
       "    <tr>\n",
       "      <th>1</th>\n",
       "      <td>AAXJ</td>\n",
       "      <td>etfs</td>\n",
       "      <td>nasdaq</td>\n",
       "      <td>.\\nasdaq etfs\\aaxj.us.txt</td>\n",
       "    </tr>\n",
       "    <tr>\n",
       "      <th>2</th>\n",
       "      <td>ACWI</td>\n",
       "      <td>etfs</td>\n",
       "      <td>nasdaq</td>\n",
       "      <td>.\\nasdaq etfs\\acwi.us.txt</td>\n",
       "    </tr>\n",
       "    <tr>\n",
       "      <th>3</th>\n",
       "      <td>ACWX</td>\n",
       "      <td>etfs</td>\n",
       "      <td>nasdaq</td>\n",
       "      <td>.\\nasdaq etfs\\acwx.us.txt</td>\n",
       "    </tr>\n",
       "    <tr>\n",
       "      <th>4</th>\n",
       "      <td>ADRE</td>\n",
       "      <td>etfs</td>\n",
       "      <td>nasdaq</td>\n",
       "      <td>.\\nasdaq etfs\\adre.us.txt</td>\n",
       "    </tr>\n",
       "  </tbody>\n",
       "</table>\n",
       "</div>"
      ],
      "text/plain": [
       "  ticker  type   exchg                  file_path\n",
       "0   AADR  etfs  nasdaq  .\\nasdaq etfs\\aadr.us.txt\n",
       "1   AAXJ  etfs  nasdaq  .\\nasdaq etfs\\aaxj.us.txt\n",
       "2   ACWI  etfs  nasdaq  .\\nasdaq etfs\\acwi.us.txt\n",
       "3   ACWX  etfs  nasdaq  .\\nasdaq etfs\\acwx.us.txt\n",
       "4   ADRE  etfs  nasdaq  .\\nasdaq etfs\\adre.us.txt"
      ]
     },
     "execution_count": 32,
     "metadata": {},
     "output_type": "execute_result"
    }
   ],
   "source": [
    "df.head()"
   ]
  },
  {
   "cell_type": "code",
   "execution_count": 33,
   "metadata": {},
   "outputs": [],
   "source": [
    "df.to_csv(\"ticker-catalog.csv\", index=False)"
   ]
  },
  {
   "cell_type": "code",
   "execution_count": 2,
   "metadata": {},
   "outputs": [],
   "source": [
    "root = r\"data\\daily\\us\\nasdaq etfs\""
   ]
  },
  {
   "cell_type": "code",
   "execution_count": 4,
   "metadata": {},
   "outputs": [
    {
     "data": {
      "text/plain": [
       "['nasdaq', 'etfs']"
      ]
     },
     "execution_count": 4,
     "metadata": {},
     "output_type": "execute_result"
    }
   ],
   "source": [
    "root.split(\"\\\\\")[-1].split()"
   ]
  },
  {
   "cell_type": "code",
   "execution_count": null,
   "metadata": {},
   "outputs": [],
   "source": []
  }
 ],
 "metadata": {
  "kernelspec": {
   "display_name": "Python 3",
   "language": "python",
   "name": "python3"
  },
  "language_info": {
   "codemirror_mode": {
    "name": "ipython",
    "version": 3
   },
   "file_extension": ".py",
   "mimetype": "text/x-python",
   "name": "python",
   "nbconvert_exporter": "python",
   "pygments_lexer": "ipython3",
   "version": "3.8.5"
  },
  "toc": {
   "base_numbering": 1,
   "nav_menu": {},
   "number_sections": true,
   "sideBar": true,
   "skip_h1_title": false,
   "title_cell": "Table of Contents",
   "title_sidebar": "Contents",
   "toc_cell": false,
   "toc_position": {},
   "toc_section_display": true,
   "toc_window_display": false
  }
 },
 "nbformat": 4,
 "nbformat_minor": 4
}
