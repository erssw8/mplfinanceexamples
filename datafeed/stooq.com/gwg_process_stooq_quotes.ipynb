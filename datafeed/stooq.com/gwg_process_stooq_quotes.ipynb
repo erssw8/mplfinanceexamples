{
 "cells": [
  {
   "cell_type": "markdown",
   "metadata": {},
   "source": [
    "This website has free EOD daily quotes for stocks around the world\n",
    "\n",
    "URL = \"https://stooq.com/db/h/\"\n",
    "\n",
    "<img src=\"good-source.png\"/>"
   ]
  },
  {
   "cell_type": "code",
   "execution_count": 1,
   "metadata": {},
   "outputs": [],
   "source": [
    "import requests\n",
    "import time\n",
    "from datetime import datetime\n",
    "from traceback import format_exc\n",
    "import subprocess"
   ]
  },
  {
   "cell_type": "code",
   "execution_count": 2,
   "metadata": {},
   "outputs": [],
   "source": [
    "import shutil"
   ]
  },
  {
   "cell_type": "code",
   "execution_count": 3,
   "metadata": {},
   "outputs": [],
   "source": [
    "import os.path\n",
    "import os\n",
    "import pandas as pd"
   ]
  },
  {
   "cell_type": "markdown",
   "metadata": {},
   "source": [
    "## download quotes manually at https://stooq.com/db/h/"
   ]
  },
  {
   "cell_type": "raw",
   "metadata": {},
   "source": [
    "# does not work\n",
    "# have to download it manually\n",
    "\n",
    "\n",
    "ts_start = time.time()\n",
    "URL = \"https://stooq.com/db/d/?b=d_us_txt\"\n",
    "r = requests.get(URL)\n",
    "open(\"d_us_txt.zip\", \"wb\").write(r.content)\n",
    "ts_stop = time.time()\n",
    "print(f\"d_us_txt.zip downloaded in {ts_stop-ts_start:.2f} sec\")"
   ]
  },
  {
   "cell_type": "markdown",
   "metadata": {},
   "source": [
    "## pre-process quotes.zip"
   ]
  },
  {
   "cell_type": "code",
   "execution_count": 4,
   "metadata": {},
   "outputs": [],
   "source": [
    "yyyy_mm_dd = datetime.strftime(datetime.now(), '%Y-%m-%d')\n",
    "zip_file = \"d_us_txt.zip\"\n",
    "tmp = zip_file.split(\".\")"
   ]
  },
  {
   "cell_type": "code",
   "execution_count": 5,
   "metadata": {},
   "outputs": [
    {
     "name": "stdout",
     "output_type": "stream",
     "text": [
      "C:\\gwgllc\\stooq.com\n"
     ]
    }
   ],
   "source": [
    "!cd"
   ]
  },
  {
   "cell_type": "code",
   "execution_count": 6,
   "metadata": {},
   "outputs": [
    {
     "data": {
      "text/plain": [
       "('downloads\\\\d_us_txt.zip', 'downloads\\\\d_us_txt-2022-04-07.zip')"
      ]
     },
     "execution_count": 6,
     "metadata": {},
     "output_type": "execute_result"
    }
   ],
   "source": [
    "os.path.join(\"downloads\", zip_file), os.path.join(\"downloads\", f\"{tmp[0]}-{yyyy_mm_dd}.{tmp[-1]}\")"
   ]
  },
  {
   "cell_type": "code",
   "execution_count": 7,
   "metadata": {},
   "outputs": [
    {
     "data": {
      "text/plain": [
       "'downloads\\\\d_us_txt-2022-04-07.zip'"
      ]
     },
     "execution_count": 7,
     "metadata": {},
     "output_type": "execute_result"
    }
   ],
   "source": [
    "shutil.copyfile(os.path.join(\"downloads\", zip_file), os.path.join(\"downloads\", f\"{tmp[0]}-{yyyy_mm_dd}.{tmp[-1]}\"))"
   ]
  },
  {
   "cell_type": "code",
   "execution_count": 8,
   "metadata": {},
   "outputs": [
    {
     "data": {
      "text/plain": [
       "'d_us_txt.zip'"
      ]
     },
     "execution_count": 8,
     "metadata": {},
     "output_type": "execute_result"
    }
   ],
   "source": [
    "shutil.move(os.path.join(\"downloads\", zip_file), zip_file)"
   ]
  },
  {
   "cell_type": "code",
   "execution_count": 9,
   "metadata": {},
   "outputs": [
    {
     "data": {
      "text/plain": [
       "'d_us_txt.zip'"
      ]
     },
     "execution_count": 9,
     "metadata": {},
     "output_type": "execute_result"
    }
   ],
   "source": [
    "zip_file"
   ]
  },
  {
   "cell_type": "code",
   "execution_count": 11,
   "metadata": {},
   "outputs": [],
   "source": [
    "# run this notebook using git bash, otherwise, fails"
   ]
  },
  {
   "cell_type": "code",
   "execution_count": 10,
   "metadata": {},
   "outputs": [
    {
     "data": {
      "text/plain": [
       "CompletedProcess(args=['unzip', 'd_us_txt.zip'], returncode=0)"
      ]
     },
     "execution_count": 10,
     "metadata": {},
     "output_type": "execute_result"
    }
   ],
   "source": [
    "subprocess.run([\"unzip\", zip_file])"
   ]
  },
  {
   "cell_type": "raw",
   "metadata": {},
   "source": [
    "shutil.rmtree(\"data\", ignore_errors=True, onerror=None)"
   ]
  },
  {
   "cell_type": "code",
   "execution_count": 12,
   "metadata": {},
   "outputs": [
    {
     "data": {
      "text/plain": [
       "CompletedProcess(args=['rm', '-rf', 'd_us_txt.zip'], returncode=0)"
      ]
     },
     "execution_count": 12,
     "metadata": {},
     "output_type": "execute_result"
    }
   ],
   "source": [
    "subprocess.run([\"rm\", \"-rf\", zip_file])"
   ]
  },
  {
   "cell_type": "code",
   "execution_count": 13,
   "metadata": {},
   "outputs": [],
   "source": []
  },
  {
   "cell_type": "code",
   "execution_count": 36,
   "metadata": {},
   "outputs": [],
   "source": [
    "n = 0\n",
    "data = []\n",
    "tickers = set()\n",
    "debug_flag = False  # True # \n",
    "\n",
    "for root, dirs, files in os.walk(\"data\"):\n",
    "    if debug_flag and n > 1: break\n",
    "    if not dirs and files and files[0].endswith(\".us.txt\"):\n",
    "        if debug_flag: print(root, dirs, files)\n",
    "        tmp = root.split(\"\\\\\")[3].split()\n",
    "        exchg = tmp[0].strip()\n",
    "        type = tmp[1].strip()\n",
    "        for f in files:\n",
    "            path = os.path.join(root, f)\n",
    "            ticker = f.split(\".\")[0].upper()\n",
    "            if ticker not in tickers:\n",
    "                data.append([ticker, type, exchg, path])\n",
    "                tickers.add(ticker)\n",
    "        if debug_flag: n += 1"
   ]
  },
  {
   "cell_type": "code",
   "execution_count": 37,
   "metadata": {},
   "outputs": [
    {
     "data": {
      "text/plain": [
       "(12248, 12248)"
      ]
     },
     "execution_count": 37,
     "metadata": {},
     "output_type": "execute_result"
    }
   ],
   "source": [
    "len(data), len(tickers)"
   ]
  },
  {
   "cell_type": "code",
   "execution_count": 38,
   "metadata": {},
   "outputs": [
    {
     "data": {
      "text/plain": [
       "[['XTNT', 'stocks', 'nysemkt', 'data\\\\daily\\\\us\\\\nysemkt stocks\\\\xtnt.us.txt'],\n",
       " ['YCBD', 'stocks', 'nysemkt', 'data\\\\daily\\\\us\\\\nysemkt stocks\\\\ycbd.us.txt'],\n",
       " ['YCBD_A',\n",
       "  'stocks',\n",
       "  'nysemkt',\n",
       "  'data\\\\daily\\\\us\\\\nysemkt stocks\\\\ycbd_a.us.txt'],\n",
       " ['ZDGE', 'stocks', 'nysemkt', 'data\\\\daily\\\\us\\\\nysemkt stocks\\\\zdge.us.txt'],\n",
       " ['ZOM', 'stocks', 'nysemkt', 'data\\\\daily\\\\us\\\\nysemkt stocks\\\\zom.us.txt']]"
      ]
     },
     "execution_count": 38,
     "metadata": {},
     "output_type": "execute_result"
    }
   ],
   "source": [
    "data[-5:]"
   ]
  },
  {
   "cell_type": "code",
   "execution_count": 39,
   "metadata": {},
   "outputs": [],
   "source": [
    "df = pd.DataFrame(data, columns=[\"ticker\",\"type\",\"exchg\",\"file_path\"])"
   ]
  },
  {
   "cell_type": "code",
   "execution_count": 40,
   "metadata": {},
   "outputs": [
    {
     "data": {
      "text/html": [
       "<div>\n",
       "<style scoped>\n",
       "    .dataframe tbody tr th:only-of-type {\n",
       "        vertical-align: middle;\n",
       "    }\n",
       "\n",
       "    .dataframe tbody tr th {\n",
       "        vertical-align: top;\n",
       "    }\n",
       "\n",
       "    .dataframe thead th {\n",
       "        text-align: right;\n",
       "    }\n",
       "</style>\n",
       "<table border=\"1\" class=\"dataframe\">\n",
       "  <thead>\n",
       "    <tr style=\"text-align: right;\">\n",
       "      <th></th>\n",
       "      <th>ticker</th>\n",
       "      <th>type</th>\n",
       "      <th>exchg</th>\n",
       "      <th>file_path</th>\n",
       "    </tr>\n",
       "  </thead>\n",
       "  <tbody>\n",
       "    <tr>\n",
       "      <th>0</th>\n",
       "      <td>AADR</td>\n",
       "      <td>etfs</td>\n",
       "      <td>nasdaq</td>\n",
       "      <td>data\\daily\\us\\nasdaq etfs\\aadr.us.txt</td>\n",
       "    </tr>\n",
       "    <tr>\n",
       "      <th>1</th>\n",
       "      <td>AAXJ</td>\n",
       "      <td>etfs</td>\n",
       "      <td>nasdaq</td>\n",
       "      <td>data\\daily\\us\\nasdaq etfs\\aaxj.us.txt</td>\n",
       "    </tr>\n",
       "    <tr>\n",
       "      <th>2</th>\n",
       "      <td>ACWI</td>\n",
       "      <td>etfs</td>\n",
       "      <td>nasdaq</td>\n",
       "      <td>data\\daily\\us\\nasdaq etfs\\acwi.us.txt</td>\n",
       "    </tr>\n",
       "    <tr>\n",
       "      <th>3</th>\n",
       "      <td>ACWX</td>\n",
       "      <td>etfs</td>\n",
       "      <td>nasdaq</td>\n",
       "      <td>data\\daily\\us\\nasdaq etfs\\acwx.us.txt</td>\n",
       "    </tr>\n",
       "    <tr>\n",
       "      <th>4</th>\n",
       "      <td>ADRE</td>\n",
       "      <td>etfs</td>\n",
       "      <td>nasdaq</td>\n",
       "      <td>data\\daily\\us\\nasdaq etfs\\adre.us.txt</td>\n",
       "    </tr>\n",
       "  </tbody>\n",
       "</table>\n",
       "</div>"
      ],
      "text/plain": [
       "  ticker  type   exchg                              file_path\n",
       "0   AADR  etfs  nasdaq  data\\daily\\us\\nasdaq etfs\\aadr.us.txt\n",
       "1   AAXJ  etfs  nasdaq  data\\daily\\us\\nasdaq etfs\\aaxj.us.txt\n",
       "2   ACWI  etfs  nasdaq  data\\daily\\us\\nasdaq etfs\\acwi.us.txt\n",
       "3   ACWX  etfs  nasdaq  data\\daily\\us\\nasdaq etfs\\acwx.us.txt\n",
       "4   ADRE  etfs  nasdaq  data\\daily\\us\\nasdaq etfs\\adre.us.txt"
      ]
     },
     "execution_count": 40,
     "metadata": {},
     "output_type": "execute_result"
    }
   ],
   "source": [
    "df.head()"
   ]
  },
  {
   "cell_type": "code",
   "execution_count": 41,
   "metadata": {},
   "outputs": [],
   "source": [
    "df.to_csv(\"ticker-catalog.csv\", index=False)"
   ]
  },
  {
   "cell_type": "markdown",
   "metadata": {},
   "source": [
    "## process tickers from QQQ index"
   ]
  },
  {
   "cell_type": "code",
   "execution_count": 42,
   "metadata": {},
   "outputs": [],
   "source": [
    "df_nq = pd.read_csv(\"wl_index-QQQ_NASDAQ100.csv\")"
   ]
  },
  {
   "cell_type": "code",
   "execution_count": 43,
   "metadata": {},
   "outputs": [
    {
     "data": {
      "text/html": [
       "<div>\n",
       "<style scoped>\n",
       "    .dataframe tbody tr th:only-of-type {\n",
       "        vertical-align: middle;\n",
       "    }\n",
       "\n",
       "    .dataframe tbody tr th {\n",
       "        vertical-align: top;\n",
       "    }\n",
       "\n",
       "    .dataframe thead th {\n",
       "        text-align: right;\n",
       "    }\n",
       "</style>\n",
       "<table border=\"1\" class=\"dataframe\">\n",
       "  <thead>\n",
       "    <tr style=\"text-align: right;\">\n",
       "      <th></th>\n",
       "      <th>Ticker</th>\n",
       "      <th>Company</th>\n",
       "    </tr>\n",
       "  </thead>\n",
       "  <tbody>\n",
       "    <tr>\n",
       "      <th>0</th>\n",
       "      <td>QQQ</td>\n",
       "      <td>ETF</td>\n",
       "    </tr>\n",
       "    <tr>\n",
       "      <th>1</th>\n",
       "      <td>ATVI</td>\n",
       "      <td>Activision Blizzard</td>\n",
       "    </tr>\n",
       "    <tr>\n",
       "      <th>2</th>\n",
       "      <td>ADBE</td>\n",
       "      <td>Adobe Inc.</td>\n",
       "    </tr>\n",
       "    <tr>\n",
       "      <th>3</th>\n",
       "      <td>AMD</td>\n",
       "      <td>Advanced Micro Devices</td>\n",
       "    </tr>\n",
       "    <tr>\n",
       "      <th>4</th>\n",
       "      <td>ALXN</td>\n",
       "      <td>Alexion Pharmaceuticals</td>\n",
       "    </tr>\n",
       "    <tr>\n",
       "      <th>...</th>\n",
       "      <td>...</td>\n",
       "      <td>...</td>\n",
       "    </tr>\n",
       "    <tr>\n",
       "      <th>99</th>\n",
       "      <td>WBA</td>\n",
       "      <td>Walgreen Boots Alliance</td>\n",
       "    </tr>\n",
       "    <tr>\n",
       "      <th>100</th>\n",
       "      <td>WDAY</td>\n",
       "      <td>Workday</td>\n",
       "    </tr>\n",
       "    <tr>\n",
       "      <th>101</th>\n",
       "      <td>XEL</td>\n",
       "      <td>Xcel Energy</td>\n",
       "    </tr>\n",
       "    <tr>\n",
       "      <th>102</th>\n",
       "      <td>XLNX</td>\n",
       "      <td>Xilinx</td>\n",
       "    </tr>\n",
       "    <tr>\n",
       "      <th>103</th>\n",
       "      <td>ZM</td>\n",
       "      <td>Zoom Video Communications</td>\n",
       "    </tr>\n",
       "  </tbody>\n",
       "</table>\n",
       "<p>104 rows × 2 columns</p>\n",
       "</div>"
      ],
      "text/plain": [
       "    Ticker                     Company\n",
       "0      QQQ                         ETF\n",
       "1     ATVI         Activision Blizzard\n",
       "2     ADBE                  Adobe Inc.\n",
       "3      AMD      Advanced Micro Devices\n",
       "4     ALXN     Alexion Pharmaceuticals\n",
       "..     ...                         ...\n",
       "99     WBA     Walgreen Boots Alliance\n",
       "100   WDAY                     Workday\n",
       "101    XEL                 Xcel Energy\n",
       "102   XLNX                      Xilinx\n",
       "103     ZM   Zoom Video Communications\n",
       "\n",
       "[104 rows x 2 columns]"
      ]
     },
     "execution_count": 43,
     "metadata": {},
     "output_type": "execute_result"
    }
   ],
   "source": [
    "df_nq"
   ]
  },
  {
   "cell_type": "code",
   "execution_count": 44,
   "metadata": {},
   "outputs": [],
   "source": [
    "tickers_nq = df_nq[\"Ticker\"].to_list()"
   ]
  },
  {
   "cell_type": "code",
   "execution_count": 46,
   "metadata": {},
   "outputs": [
    {
     "data": {
      "text/plain": [
       "['QQQ', 'ATVI', 'ADBE', 'AMD', 'ALXN']"
      ]
     },
     "execution_count": 46,
     "metadata": {},
     "output_type": "execute_result"
    }
   ],
   "source": [
    "tickers_nq[:5]"
   ]
  },
  {
   "cell_type": "code",
   "execution_count": 53,
   "metadata": {},
   "outputs": [],
   "source": [
    "dd = df[df['ticker'] == 'QQQ'].to_dict('records')"
   ]
  },
  {
   "cell_type": "code",
   "execution_count": 58,
   "metadata": {},
   "outputs": [
    {
     "data": {
      "text/plain": [
       "{'ticker': 'QQQ',\n",
       " 'type': 'etfs',\n",
       " 'exchg': 'nasdaq',\n",
       " 'file_path': 'data\\\\daily\\\\us\\\\nasdaq etfs\\\\qqq.us.txt'}"
      ]
     },
     "execution_count": 58,
     "metadata": {},
     "output_type": "execute_result"
    }
   ],
   "source": [
    "dd[0]"
   ]
  },
  {
   "cell_type": "code",
   "execution_count": 59,
   "metadata": {},
   "outputs": [
    {
     "data": {
      "text/plain": [
       "'data\\\\daily\\\\us\\\\nasdaq etfs\\\\qqq.us.txt'"
      ]
     },
     "execution_count": 59,
     "metadata": {},
     "output_type": "execute_result"
    }
   ],
   "source": [
    "dd[0]['file_path']"
   ]
  },
  {
   "cell_type": "markdown",
   "metadata": {},
   "source": [
    "## Calculate TA and save to sqlite DB"
   ]
  },
  {
   "cell_type": "markdown",
   "metadata": {},
   "source": [
    "## chart"
   ]
  },
  {
   "cell_type": "markdown",
   "metadata": {},
   "source": [
    "## Analyze trend and stat"
   ]
  },
  {
   "cell_type": "code",
   "execution_count": null,
   "metadata": {},
   "outputs": [],
   "source": []
  }
 ],
 "metadata": {
  "kernelspec": {
   "display_name": "Python 3",
   "language": "python",
   "name": "python3"
  },
  "language_info": {
   "codemirror_mode": {
    "name": "ipython",
    "version": 3
   },
   "file_extension": ".py",
   "mimetype": "text/x-python",
   "name": "python",
   "nbconvert_exporter": "python",
   "pygments_lexer": "ipython3",
   "version": "3.8.5"
  },
  "toc": {
   "base_numbering": 1,
   "nav_menu": {},
   "number_sections": true,
   "sideBar": true,
   "skip_h1_title": false,
   "title_cell": "Table of Contents",
   "title_sidebar": "Contents",
   "toc_cell": false,
   "toc_position": {},
   "toc_section_display": true,
   "toc_window_display": false
  }
 },
 "nbformat": 4,
 "nbformat_minor": 4
}
