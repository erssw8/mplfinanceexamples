{
 "cells": [
  {
   "cell_type": "code",
   "execution_count": 1,
   "metadata": {},
   "outputs": [],
   "source": [
    "import sqlite3\n",
    "import pandas as pd\n",
    "import numpy as np\n",
    "from sql_metadata import Parser"
   ]
  },
  {
   "cell_type": "code",
   "execution_count": 2,
   "metadata": {},
   "outputs": [],
   "source": [
    "from datetime import datetime, timedelta"
   ]
  },
  {
   "cell_type": "code",
   "execution_count": 3,
   "metadata": {},
   "outputs": [],
   "source": [
    "# This allows multiple outputs from a single jupyter notebook cell:\n",
    "from IPython.core.interactiveshell import InteractiveShell\n",
    "InteractiveShell.ast_node_interactivity = \"all\""
   ]
  },
  {
   "cell_type": "code",
   "execution_count": 4,
   "metadata": {},
   "outputs": [],
   "source": [
    "import mplfinance as mpf"
   ]
  },
  {
   "cell_type": "code",
   "execution_count": 34,
   "metadata": {},
   "outputs": [],
   "source": [
    "FLAG_DEBUG = False # True # \n",
    "NUM_DAYS_QUOTE, NUM_DAYS_PLOT = 390, 250\n",
    "RSI_PERIOD, RSI_AVG, RSI_BAND_WIDTH = 100, 25, 0.6\n",
    "EMA_FAST, EMA_SLOW, EMA_LONG = 15, 50, 150\n",
    "EMA_FAST_SCALE = 1.4  # EMA10 band half-width factor\n",
    "EMA_SLOW_SCALE = 2.0 \n",
    "MA_VOL = 20\n",
    "SPAN, OVERLAP = 200, 15\n",
    "PANID_PRICE, PANID_VOL, PANID_RSI, PANID_SIGNAL = 0, 3, 2, 1\n",
    "PANEL_RATIOS = (8, 1, 8, 1)\n",
    "FIGURE_WIDTH, FIGURE_HEIGHT =  17, 13\n",
    "YELLOW = '#F5D928'\n",
    "LIGHT_BLACK = '#8F8E83'\n",
    "\n",
    "FIRST_TIME = True"
   ]
  },
  {
   "cell_type": "code",
   "execution_count": 6,
   "metadata": {},
   "outputs": [],
   "source": [
    "def _load_stooq_data(file_path):\n",
    "    \"\"\"Load historical quotes from http://stooq.com/db/h\n",
    "    and parse it to Pandas dataframe\n",
    "    \"\"\"\n",
    "    df = pd.read_csv(file_path,index_col=2,parse_dates=False)\n",
    "    df.reset_index(inplace=True)\n",
    "    df.drop(columns=['<TICKER>', '<PER>', '<TIME>','<OPENINT>'], axis=1, inplace=True)\n",
    "    # Avoid reserved words like date, open via suffix '_' for original quotes\n",
    "    df.rename(columns={'<DATE>' : \"date_\", '<OPEN>': \"open_\", '<HIGH>':\"high_\", \n",
    "                   '<LOW>':\"low_\", '<CLOSE>':\"close_\", '<VOL>':\"volume_\"} ,inplace=True)\n",
    "    df.set_index(\"date_\", inplace=True)\n",
    "    return df\n",
    "\n",
    "\n",
    "def _ta_RSI(df, n=14):\n",
    "    \"\"\"Calculate Technical Analysis indicator RSI, 0-centered\n",
    "    \"\"\"\n",
    "    # https://github.com/wgong/mplfinance/blob/master/examples/rsi.py\n",
    "    diff = df.w_p.diff().values\n",
    "    gains = diff\n",
    "    losses = -diff\n",
    "    with np.errstate(invalid='ignore'):\n",
    "        gains[(gains<0)|np.isnan(gains)] = 0.0\n",
    "        losses[(losses<=0)|np.isnan(losses)] = 1e-10 # we don't want divide by zero/NaN\n",
    "    m = (n-1) / n\n",
    "    ni = 1 / n\n",
    "    g = gains[n] = np.nanmean(gains[:n])\n",
    "    l = losses[n] = np.nanmean(losses[:n])\n",
    "    gains[:n] = losses[:n] = np.nan\n",
    "    for i,v in enumerate(gains[n:],n):\n",
    "        g = gains[i] = ni*v + m*g\n",
    "    for i,v in enumerate(losses[n:],n):\n",
    "        l = losses[i] = ni*v + m*l\n",
    "    rs = gains / losses\n",
    "    return 50 - (100/(1+rs))\n",
    "\n",
    "\n",
    "\n",
    "def _calculate_ta(df,rsi_period=RSI_PERIOD, avg_period=RSI_AVG, band_width=RSI_BAND_WIDTH):\n",
    "    \"\"\"Calculate Technical Analysis indicators such as \n",
    "        - EMA (fast,slow,long), EMA-band, \n",
    "        - RSI, RSI-band,\n",
    "        - Vol-avg\n",
    "    \"\"\"\n",
    "    \n",
    "    df[\"w_p\"] = 0.25*(2*df[\"close_\"] + df[\"high_\"] + df[\"low_\"])\n",
    "    df[\"ema_fast\"] = df.w_p.ewm(span=EMA_FAST).mean()\n",
    "    df[\"ema_slow\"] = df.w_p.ewm(span=EMA_SLOW).mean()\n",
    "    df[\"ema_long\"] = df.w_p.ewm(span=EMA_LONG).mean()\n",
    "\n",
    "    # range\n",
    "    hl_mean_fast = (df.high_ - df.low_).ewm(span=int(EMA_FAST/2)).mean()\n",
    "    df[\"ema_fast_u\"] =  df.ema_fast + 0.5*hl_mean_fast * EMA_FAST_SCALE\n",
    "    df[\"ema_fast_d\"] =  df.ema_fast - 0.5*hl_mean_fast * EMA_FAST_SCALE\n",
    "\n",
    "    hl_mean_slow = (df.high_ - df.low_).ewm(span=int(EMA_SLOW/2)).mean()\n",
    "    df[\"ema_slow_u\"] =  df.ema_slow + 0.5*hl_mean_slow * EMA_SLOW_SCALE\n",
    "    df[\"ema_slow_d\"] =  df.ema_slow - 0.5*hl_mean_slow * EMA_SLOW_SCALE\n",
    "\n",
    "    # trim volume to avoid exponential form\n",
    "    df['vol'] = df['volume_'] / 1000000.0\n",
    "    df[\"vol_avg\"] = df.vol.ewm(span=MA_VOL).mean()\n",
    "\n",
    "    df[\"rsi\"] = _ta_RSI(df,n=rsi_period)\n",
    "    df[\"rsi_avg\"] = df.rsi.ewm(span=avg_period).mean()\n",
    "    df[\"rsi_u\"] = df[\"rsi_avg\"] + band_width \n",
    "    df[\"rsi_d\"] = df['rsi_avg'] - band_width \n",
    "    df[\"rsi_signal\"] = df[\"rsi\"] - df[\"rsi_avg\"]\n",
    "\n",
    "    df[\"del_ema_slow\"] = df.ema_slow.diff().values\n",
    "    df[\"del_ema_long\"] = df.ema_long.diff().values\n",
    "    df[\"del_rsi_avg\"] = df.rsi_avg.diff().values\n",
    "\n",
    "    return df\n",
    "\n",
    "def _display_df(df, nrows=3):\n",
    "    print(df.head(nrows))\n",
    "    print(\"\\n\",3*\"..\",\"\\n\")\n",
    "    print(df.tail(nrows))"
   ]
  },
  {
   "cell_type": "code",
   "execution_count": 7,
   "metadata": {},
   "outputs": [],
   "source": [
    "create_table_sql = '''CREATE TABLE quote_ta\n",
    "    (ticker text\n",
    "    \n",
    "    , date_ text\n",
    "\t, open_ real\n",
    "\t, high_ real\n",
    "\t, low_ real\n",
    "\t, close_ real\n",
    "\t, volume_ INTEGER\n",
    "    \n",
    "\t, w_p real\n",
    "\t, ema_fast real\n",
    "\t, ema_slow real\n",
    "\t, ema_long real\n",
    "\t, ema_fast_u real\n",
    "\t, ema_fast_d real\n",
    "\t, ema_slow_u real\n",
    "\t, ema_slow_d real\n",
    "\t, vol real\n",
    "\t, vol_avg real\n",
    "\t, rsi real\n",
    "\t, rsi_avg real\n",
    "\t, rsi_u real\n",
    "\t, rsi_d real\n",
    "\t, rsi_signal real\n",
    "\t, del_ema_slow real\n",
    "\t, del_ema_long real\n",
    "\t, del_rsi_avg real\n",
    "    )\n",
    "'''\n",
    "\n",
    "# https://www.tutorialspoint.com/sqlite/sqlite_indexes.htm\n",
    "create_index_sql = '''\n",
    "Create unique index if not exists\n",
    "ticker_dt on quote_ta ( ticker , date_ )\n",
    "'''"
   ]
  },
  {
   "cell_type": "code",
   "execution_count": 8,
   "metadata": {},
   "outputs": [
    {
     "name": "stdout",
     "output_type": "stream",
     "text": [
      "table_name: quote_ta \n",
      "\n",
      "columns: ['ticker', 'date_', 'open_', 'high_', 'low_', 'close_', 'volume_', 'w_p', 'ema_fast', 'ema_slow', 'ema_long', 'ema_fast_u', 'ema_fast_d', 'ema_slow_u', 'ema_slow_d', 'vol', 'vol_avg', 'rsi', 'rsi_avg', 'rsi_u', 'rsi_d', 'rsi_signal', 'del_ema_slow', 'del_ema_long', 'del_rsi_avg']\n"
     ]
    }
   ],
   "source": [
    "parser = Parser(create_table_sql)\n",
    "table_name = parser.tables[0]\n",
    "table_columns = parser.columns   # open is a key-word, skipped\n",
    "print(f\"table_name: {table_name} \\n\\ncolumns: {table_columns}\")"
   ]
  },
  {
   "cell_type": "code",
   "execution_count": 9,
   "metadata": {},
   "outputs": [],
   "source": [
    "db_name = \"NQ100\"\n",
    "file_tickers = \"wl_index-QQQ_NASDAQ100.csv\"\n",
    "file_dict = \"ticker-catalog.csv\"\n",
    "file_db = f\"db_{db_name}_TEST.sqlite\"\n",
    "FILE_DB = file_db\n",
    "CHART_TABLE_NAME = \"quote_ta\""
   ]
  },
  {
   "cell_type": "code",
   "execution_count": 10,
   "metadata": {},
   "outputs": [],
   "source": [
    "df_ticker = pd.read_csv(file_tickers)\n",
    "df_meta = pd.read_csv(file_dict)"
   ]
  },
  {
   "cell_type": "code",
   "execution_count": 11,
   "metadata": {},
   "outputs": [
    {
     "name": "stdout",
     "output_type": "stream",
     "text": [
      "  Ticker               Company\n",
      "0    QQQ                   ETF\n",
      "1   ATVI   Activision Blizzard\n",
      "2   ADBE            Adobe Inc.\n",
      "\n",
      " ...... \n",
      "\n",
      "    Ticker                     Company\n",
      "99     XEL                 Xcel Energy\n",
      "100   XLNX                      Xilinx\n",
      "101     ZM   Zoom Video Communications\n"
     ]
    }
   ],
   "source": [
    "_display_df(df_ticker)"
   ]
  },
  {
   "cell_type": "code",
   "execution_count": 12,
   "metadata": {},
   "outputs": [
    {
     "name": "stdout",
     "output_type": "stream",
     "text": [
      "  ticker  type   exchg                              file_path\n",
      "0   AADR  etfs  nasdaq  data\\daily\\us\\nasdaq etfs\\aadr.us.txt\n",
      "1   AAXJ  etfs  nasdaq  data\\daily\\us\\nasdaq etfs\\aaxj.us.txt\n",
      "2   ACWI  etfs  nasdaq  data\\daily\\us\\nasdaq etfs\\acwi.us.txt\n",
      "\n",
      " ...... \n",
      "\n",
      "       ticker    type    exchg                                   file_path\n",
      "12245  YCBD_A  stocks  nysemkt  data\\daily\\us\\nysemkt stocks\\ycbd_a.us.txt\n",
      "12246    ZDGE  stocks  nysemkt    data\\daily\\us\\nysemkt stocks\\zdge.us.txt\n",
      "12247     ZOM  stocks  nysemkt     data\\daily\\us\\nysemkt stocks\\zom.us.txt\n"
     ]
    }
   ],
   "source": [
    "_display_df(df_meta)"
   ]
  },
  {
   "cell_type": "code",
   "execution_count": 13,
   "metadata": {},
   "outputs": [],
   "source": [
    "tickers_all = df_meta['ticker'].to_list()"
   ]
  },
  {
   "cell_type": "code",
   "execution_count": 14,
   "metadata": {},
   "outputs": [
    {
     "data": {
      "text/plain": [
       "(12248, ['AADR', 'AAXJ', 'ACWI', 'ACWX', 'ADRE'])"
      ]
     },
     "execution_count": 14,
     "metadata": {},
     "output_type": "execute_result"
    }
   ],
   "source": [
    "len(tickers_all), tickers_all[:5]"
   ]
  },
  {
   "cell_type": "markdown",
   "metadata": {},
   "source": [
    "test this ticker"
   ]
  },
  {
   "cell_type": "code",
   "execution_count": 15,
   "metadata": {},
   "outputs": [],
   "source": [
    "ticker = \"qqq\".upper()"
   ]
  },
  {
   "cell_type": "code",
   "execution_count": 16,
   "metadata": {},
   "outputs": [
    {
     "data": {
      "text/plain": [
       "{'ticker': 'QQQ',\n",
       " 'type': 'etfs',\n",
       " 'exchg': 'nasdaq',\n",
       " 'file_path': 'data\\\\daily\\\\us\\\\nasdaq etfs\\\\qqq.us.txt'}"
      ]
     },
     "execution_count": 16,
     "metadata": {},
     "output_type": "execute_result"
    }
   ],
   "source": [
    "dd = df_meta[df_meta['ticker'] == ticker].to_dict('records')[0]\n",
    "dd"
   ]
  },
  {
   "cell_type": "code",
   "execution_count": 17,
   "metadata": {},
   "outputs": [],
   "source": [
    "df1 = pd.read_csv(dd['file_path'])"
   ]
  },
  {
   "cell_type": "code",
   "execution_count": 18,
   "metadata": {},
   "outputs": [
    {
     "name": "stdout",
     "output_type": "stream",
     "text": [
      "  <TICKER> <PER>    <DATE>  <TIME>  <OPEN>  <HIGH>   <LOW>  <CLOSE>     <VOL>  \\\n",
      "0   QQQ.US     D  19990310       0  44.334  44.361  43.605   44.279  12066145   \n",
      "1   QQQ.US     D  19990311       0  44.601  44.856  43.624   44.488  22347406   \n",
      "2   QQQ.US     D  19990312       0  44.333  44.360  43.061   43.414  20164977   \n",
      "\n",
      "   <OPENINT>  \n",
      "0          0  \n",
      "1          0  \n",
      "2          0  \n",
      "\n",
      " ...... \n",
      "\n",
      "     <TICKER> <PER>    <DATE>  <TIME>  <OPEN>  <HIGH>   <LOW>  <CLOSE>  \\\n",
      "5805   QQQ.US     D  20220404       0  362.71  369.31  362.44   369.30   \n",
      "5806   QQQ.US     D  20220405       0  367.81  368.54  359.93   361.10   \n",
      "5807   QQQ.US     D  20220406       0  355.65  356.78  350.56   353.24   \n",
      "\n",
      "         <VOL>  <OPENINT>  \n",
      "5805  45950171          0  \n",
      "5806  62738661          0  \n",
      "5807  89720554          0  \n"
     ]
    }
   ],
   "source": [
    "_display_df(df1)"
   ]
  },
  {
   "cell_type": "raw",
   "metadata": {},
   "source": [
    "# cleanup\n",
    "\n",
    "del [df2, df3, df4]"
   ]
  },
  {
   "cell_type": "code",
   "execution_count": 19,
   "metadata": {},
   "outputs": [],
   "source": [
    "# load quotes\n",
    "df = _load_stooq_data(dd['file_path'])"
   ]
  },
  {
   "cell_type": "code",
   "execution_count": 20,
   "metadata": {},
   "outputs": [
    {
     "name": "stdout",
     "output_type": "stream",
     "text": [
      "           open_   high_    low_  close_   volume_\n",
      "date_                                             \n",
      "19990310  44.334  44.361  43.605  44.279  12066145\n",
      "19990311  44.601  44.856  43.624  44.488  22347406\n",
      "19990312  44.333  44.360  43.061  43.414  20164977\n",
      "\n",
      " ...... \n",
      "\n",
      "           open_   high_    low_  close_   volume_\n",
      "date_                                             \n",
      "20220404  362.71  369.31  362.44  369.30  45950171\n",
      "20220405  367.81  368.54  359.93  361.10  62738661\n",
      "20220406  355.65  356.78  350.56  353.24  89720554\n"
     ]
    }
   ],
   "source": [
    "_display_df(df)"
   ]
  },
  {
   "cell_type": "code",
   "execution_count": 21,
   "metadata": {},
   "outputs": [],
   "source": [
    "df = _calculate_ta(df)"
   ]
  },
  {
   "cell_type": "code",
   "execution_count": 22,
   "metadata": {},
   "outputs": [
    {
     "name": "stdout",
     "output_type": "stream",
     "text": [
      "           open_   high_    low_  close_   volume_       w_p   ema_fast  \\\n",
      "date_                                                                     \n",
      "19990310  44.334  44.361  43.605  44.279  12066145  44.13100  44.131000   \n",
      "19990311  44.601  44.856  43.624  44.488  22347406  44.36400  44.255267   \n",
      "19990312  44.333  44.360  43.061  43.414  20164977  43.56225  43.992822   \n",
      "\n",
      "           ema_slow   ema_long  ema_fast_u  ...        vol    vol_avg  rsi  \\\n",
      "date_                                       ...                              \n",
      "19990310  44.131000  44.131000   44.660200  ...  12.066145  12.066145  NaN   \n",
      "19990311  44.249830  44.248277   44.974867  ...  22.347406  17.463807  NaN   \n",
      "19990312  44.011409  44.016545   44.794455  ...  20.164977  18.455660  NaN   \n",
      "\n",
      "          rsi_avg  rsi_u  rsi_d  rsi_signal  del_ema_slow  del_ema_long  \\\n",
      "date_                                                                     \n",
      "19990310      NaN    NaN    NaN         NaN           NaN           NaN   \n",
      "19990311      NaN    NaN    NaN         NaN      0.118830      0.117277   \n",
      "19990312      NaN    NaN    NaN         NaN     -0.238421     -0.231731   \n",
      "\n",
      "          del_rsi_avg  \n",
      "date_                  \n",
      "19990310          NaN  \n",
      "19990311          NaN  \n",
      "19990312          NaN  \n",
      "\n",
      "[3 rows x 23 columns]\n",
      "\n",
      " ...... \n",
      "\n",
      "           open_   high_    low_  close_   volume_       w_p    ema_fast  \\\n",
      "date_                                                                      \n",
      "20220404  362.71  369.31  362.44  369.30  45950171  367.5875  356.781572   \n",
      "20220405  367.81  368.54  359.93  361.10  62738661  362.6675  357.517313   \n",
      "20220406  355.65  356.78  350.56  353.24  89720554  353.4550  357.009524   \n",
      "\n",
      "            ema_slow    ema_long  ema_fast_u  ...        vol    vol_avg  \\\n",
      "date_                                         ...                         \n",
      "20220404  354.453797  360.772706  361.156781  ...  45.950171  67.350910   \n",
      "20220405  354.775903  360.797802  362.305470  ...  62.738661  66.911648   \n",
      "20220406  354.724103  360.700547  361.689141  ...  89.720554  69.083925   \n",
      "\n",
      "               rsi   rsi_avg     rsi_u     rsi_d  rsi_signal  del_ema_slow  \\\n",
      "date_                                                                        \n",
      "20220404  1.329536 -0.768197 -0.168197 -1.368197    2.097733      0.536070   \n",
      "20220405  0.651255 -0.659009 -0.059009 -1.259009    1.310264      0.322106   \n",
      "20220406 -0.583806 -0.653224 -0.053224 -1.253224    0.069417     -0.051800   \n",
      "\n",
      "          del_ema_long  del_rsi_avg  \n",
      "date_                                \n",
      "20220404      0.091474     0.174811  \n",
      "20220405      0.025097     0.109189  \n",
      "20220406     -0.097256     0.005785  \n",
      "\n",
      "[3 rows x 23 columns]\n"
     ]
    }
   ],
   "source": [
    "_display_df(df)"
   ]
  },
  {
   "cell_type": "code",
   "execution_count": 23,
   "metadata": {},
   "outputs": [],
   "source": [
    "df.reset_index(inplace=True)"
   ]
  },
  {
   "cell_type": "code",
   "execution_count": 24,
   "metadata": {},
   "outputs": [
    {
     "data": {
      "text/plain": [
       "Index(['date_', 'open_', 'high_', 'low_', 'close_', 'volume_', 'w_p',\n",
       "       'ema_fast', 'ema_slow', 'ema_long', 'ema_fast_u', 'ema_fast_d',\n",
       "       'ema_slow_u', 'ema_slow_d', 'vol', 'vol_avg', 'rsi', 'rsi_avg', 'rsi_u',\n",
       "       'rsi_d', 'rsi_signal', 'del_ema_slow', 'del_ema_long', 'del_rsi_avg'],\n",
       "      dtype='object')"
      ]
     },
     "execution_count": 24,
     "metadata": {},
     "output_type": "execute_result"
    }
   ],
   "source": [
    "df.columns"
   ]
  },
  {
   "cell_type": "code",
   "execution_count": 25,
   "metadata": {},
   "outputs": [],
   "source": [
    "# add ticker column\n",
    "df['ticker'] = ticker"
   ]
  },
  {
   "cell_type": "code",
   "execution_count": 26,
   "metadata": {},
   "outputs": [
    {
     "name": "stdout",
     "output_type": "stream",
     "text": [
      "      date_   open_   high_    low_  close_   volume_       w_p   ema_fast  \\\n",
      "0  19990310  44.334  44.361  43.605  44.279  12066145  44.13100  44.131000   \n",
      "1  19990311  44.601  44.856  43.624  44.488  22347406  44.36400  44.255267   \n",
      "2  19990312  44.333  44.360  43.061  43.414  20164977  43.56225  43.992822   \n",
      "\n",
      "    ema_slow   ema_long  ...    vol_avg  rsi  rsi_avg  rsi_u  rsi_d  \\\n",
      "0  44.131000  44.131000  ...  12.066145  NaN      NaN    NaN    NaN   \n",
      "1  44.249830  44.248277  ...  17.463807  NaN      NaN    NaN    NaN   \n",
      "2  44.011409  44.016545  ...  18.455660  NaN      NaN    NaN    NaN   \n",
      "\n",
      "   rsi_signal  del_ema_slow  del_ema_long  del_rsi_avg  ticker  \n",
      "0         NaN           NaN           NaN          NaN     QQQ  \n",
      "1         NaN      0.118830      0.117277          NaN     QQQ  \n",
      "2         NaN     -0.238421     -0.231731          NaN     QQQ  \n",
      "\n",
      "[3 rows x 25 columns]\n",
      "\n",
      " ...... \n",
      "\n",
      "         date_   open_   high_    low_  close_   volume_       w_p  \\\n",
      "5805  20220404  362.71  369.31  362.44  369.30  45950171  367.5875   \n",
      "5806  20220405  367.81  368.54  359.93  361.10  62738661  362.6675   \n",
      "5807  20220406  355.65  356.78  350.56  353.24  89720554  353.4550   \n",
      "\n",
      "        ema_fast    ema_slow    ema_long  ...    vol_avg       rsi   rsi_avg  \\\n",
      "5805  356.781572  354.453797  360.772706  ...  67.350910  1.329536 -0.768197   \n",
      "5806  357.517313  354.775903  360.797802  ...  66.911648  0.651255 -0.659009   \n",
      "5807  357.009524  354.724103  360.700547  ...  69.083925 -0.583806 -0.653224   \n",
      "\n",
      "         rsi_u     rsi_d  rsi_signal  del_ema_slow  del_ema_long  del_rsi_avg  \\\n",
      "5805 -0.168197 -1.368197    2.097733      0.536070      0.091474     0.174811   \n",
      "5806 -0.059009 -1.259009    1.310264      0.322106      0.025097     0.109189   \n",
      "5807 -0.053224 -1.253224    0.069417     -0.051800     -0.097256     0.005785   \n",
      "\n",
      "      ticker  \n",
      "5805     QQQ  \n",
      "5806     QQQ  \n",
      "5807     QQQ  \n",
      "\n",
      "[3 rows x 25 columns]\n"
     ]
    }
   ],
   "source": [
    "_display_df(df)"
   ]
  },
  {
   "cell_type": "code",
   "execution_count": 27,
   "metadata": {},
   "outputs": [
    {
     "data": {
      "text/plain": [
       "(25,\n",
       " ['ticker',\n",
       "  'date_',\n",
       "  'open_',\n",
       "  'high_',\n",
       "  'low_',\n",
       "  'close_',\n",
       "  'volume_',\n",
       "  'w_p',\n",
       "  'ema_fast',\n",
       "  'ema_slow',\n",
       "  'ema_long',\n",
       "  'ema_fast_u',\n",
       "  'ema_fast_d',\n",
       "  'ema_slow_u',\n",
       "  'ema_slow_d',\n",
       "  'vol',\n",
       "  'vol_avg',\n",
       "  'rsi',\n",
       "  'rsi_avg',\n",
       "  'rsi_u',\n",
       "  'rsi_d',\n",
       "  'rsi_signal',\n",
       "  'del_ema_slow',\n",
       "  'del_ema_long',\n",
       "  'del_rsi_avg'])"
      ]
     },
     "execution_count": 27,
     "metadata": {},
     "output_type": "execute_result"
    }
   ],
   "source": [
    "len(table_columns), table_columns"
   ]
  },
  {
   "cell_type": "code",
   "execution_count": 28,
   "metadata": {},
   "outputs": [],
   "source": [
    "df = df[table_columns]"
   ]
  },
  {
   "cell_type": "code",
   "execution_count": 29,
   "metadata": {},
   "outputs": [
    {
     "name": "stdout",
     "output_type": "stream",
     "text": [
      "  ticker     date_   open_   high_    low_  close_   volume_       w_p  \\\n",
      "0    QQQ  19990310  44.334  44.361  43.605  44.279  12066145  44.13100   \n",
      "1    QQQ  19990311  44.601  44.856  43.624  44.488  22347406  44.36400   \n",
      "2    QQQ  19990312  44.333  44.360  43.061  43.414  20164977  43.56225   \n",
      "\n",
      "    ema_fast   ema_slow  ...        vol    vol_avg  rsi  rsi_avg  rsi_u  \\\n",
      "0  44.131000  44.131000  ...  12.066145  12.066145  NaN      NaN    NaN   \n",
      "1  44.255267  44.249830  ...  22.347406  17.463807  NaN      NaN    NaN   \n",
      "2  43.992822  44.011409  ...  20.164977  18.455660  NaN      NaN    NaN   \n",
      "\n",
      "   rsi_d  rsi_signal  del_ema_slow  del_ema_long  del_rsi_avg  \n",
      "0    NaN         NaN           NaN           NaN          NaN  \n",
      "1    NaN         NaN      0.118830      0.117277          NaN  \n",
      "2    NaN         NaN     -0.238421     -0.231731          NaN  \n",
      "\n",
      "[3 rows x 25 columns]\n",
      "\n",
      " ...... \n",
      "\n",
      "     ticker     date_   open_   high_    low_  close_   volume_       w_p  \\\n",
      "5805    QQQ  20220404  362.71  369.31  362.44  369.30  45950171  367.5875   \n",
      "5806    QQQ  20220405  367.81  368.54  359.93  361.10  62738661  362.6675   \n",
      "5807    QQQ  20220406  355.65  356.78  350.56  353.24  89720554  353.4550   \n",
      "\n",
      "        ema_fast    ema_slow  ...        vol    vol_avg       rsi   rsi_avg  \\\n",
      "5805  356.781572  354.453797  ...  45.950171  67.350910  1.329536 -0.768197   \n",
      "5806  357.517313  354.775903  ...  62.738661  66.911648  0.651255 -0.659009   \n",
      "5807  357.009524  354.724103  ...  89.720554  69.083925 -0.583806 -0.653224   \n",
      "\n",
      "         rsi_u     rsi_d  rsi_signal  del_ema_slow  del_ema_long  del_rsi_avg  \n",
      "5805 -0.168197 -1.368197    2.097733      0.536070      0.091474     0.174811  \n",
      "5806 -0.059009 -1.259009    1.310264      0.322106      0.025097     0.109189  \n",
      "5807 -0.053224 -1.253224    0.069417     -0.051800     -0.097256     0.005785  \n",
      "\n",
      "[3 rows x 25 columns]\n"
     ]
    }
   ],
   "source": [
    "_display_df(df)"
   ]
  },
  {
   "cell_type": "code",
   "execution_count": 30,
   "metadata": {},
   "outputs": [],
   "source": [
    "numeric_cols = ['w_p', 'ema_fast', 'ema_slow', 'ema_long', 'ema_fast_u', 'ema_fast_d', 'ema_slow_u', 'ema_slow_d',\n",
    "     'vol', 'vol_avg', 'rsi', 'rsi_avg', 'rsi_u', 'rsi_d', 'rsi_signal', 'del_ema_slow', 'del_ema_long', 'del_rsi_avg']"
   ]
  },
  {
   "cell_type": "code",
   "execution_count": 31,
   "metadata": {
    "scrolled": true
   },
   "outputs": [
    {
     "data": {
      "text/plain": [
       "((5808, 25),\n",
       " Index(['ticker', 'date_', 'open_', 'high_', 'low_', 'close_', 'volume_', 'w_p',\n",
       "        'ema_fast', 'ema_slow', 'ema_long', 'ema_fast_u', 'ema_fast_d',\n",
       "        'ema_slow_u', 'ema_slow_d', 'vol', 'vol_avg', 'rsi', 'rsi_avg', 'rsi_u',\n",
       "        'rsi_d', 'rsi_signal', 'del_ema_slow', 'del_ema_long', 'del_rsi_avg'],\n",
       "       dtype='object'))"
      ]
     },
     "execution_count": 31,
     "metadata": {},
     "output_type": "execute_result"
    }
   ],
   "source": [
    "df.shape, df.columns"
   ]
  },
  {
   "cell_type": "code",
   "execution_count": 32,
   "metadata": {},
   "outputs": [],
   "source": [
    "df[numeric_cols] = np.round(df[numeric_cols], 4)"
   ]
  },
  {
   "cell_type": "code",
   "execution_count": 33,
   "metadata": {},
   "outputs": [
    {
     "name": "stdout",
     "output_type": "stream",
     "text": [
      "  ticker     date_   open_   high_    low_  close_   volume_     w_p  \\\n",
      "0    QQQ  19990310  44.334  44.361  43.605  44.279  12066145  44.131   \n",
      "1    QQQ  19990311  44.601  44.856  43.624  44.488  22347406  44.364   \n",
      "\n",
      "   ema_fast  ema_slow  ...      vol  vol_avg  rsi  rsi_avg  rsi_u  rsi_d  \\\n",
      "0   44.1310   44.1310  ...  12.0661  12.0661  NaN      NaN    NaN    NaN   \n",
      "1   44.2553   44.2498  ...  22.3474  17.4638  NaN      NaN    NaN    NaN   \n",
      "\n",
      "   rsi_signal  del_ema_slow  del_ema_long  del_rsi_avg  \n",
      "0         NaN           NaN           NaN          NaN  \n",
      "1         NaN        0.1188        0.1173          NaN  \n",
      "\n",
      "[2 rows x 25 columns]\n",
      "\n",
      " ...... \n",
      "\n",
      "     ticker     date_   open_   high_    low_  close_   volume_       w_p  \\\n",
      "5806    QQQ  20220405  367.81  368.54  359.93  361.10  62738661  362.6675   \n",
      "5807    QQQ  20220406  355.65  356.78  350.56  353.24  89720554  353.4550   \n",
      "\n",
      "      ema_fast  ema_slow  ...      vol  vol_avg     rsi  rsi_avg   rsi_u  \\\n",
      "5806  357.5173  354.7759  ...  62.7387  66.9116  0.6513  -0.6590 -0.0590   \n",
      "5807  357.0095  354.7241  ...  89.7206  69.0839 -0.5838  -0.6532 -0.0532   \n",
      "\n",
      "       rsi_d  rsi_signal  del_ema_slow  del_ema_long  del_rsi_avg  \n",
      "5806 -1.2590      1.3103        0.3221        0.0251       0.1092  \n",
      "5807 -1.2532      0.0694       -0.0518       -0.0973       0.0058  \n",
      "\n",
      "[2 rows x 25 columns]\n"
     ]
    }
   ],
   "source": [
    "_display_df(df, nrows=2)"
   ]
  },
  {
   "cell_type": "markdown",
   "metadata": {},
   "source": [
    "#### Create table for the first time"
   ]
  },
  {
   "cell_type": "code",
   "execution_count": 35,
   "metadata": {},
   "outputs": [
    {
     "data": {
      "text/plain": [
       "<sqlite3.Cursor at 0x173320e27a0>"
      ]
     },
     "execution_count": 35,
     "metadata": {},
     "output_type": "execute_result"
    }
   ],
   "source": [
    "if FIRST_TIME:\n",
    "    conn = sqlite3.connect(file_db)\n",
    "    cur = conn.cursor()\n",
    "\n",
    "    # Create table\n",
    "    cur.execute(create_table_sql)\n",
    "\n",
    "    conn.commit()\n",
    "    conn.close()"
   ]
  },
  {
   "cell_type": "markdown",
   "metadata": {},
   "source": [
    "load csv to sqlite db\n",
    "- https://stackoverflow.com/questions/2887878/importing-a-csv-file-into-a-sqlite3-database-table-using-python"
   ]
  },
  {
   "cell_type": "code",
   "execution_count": 36,
   "metadata": {},
   "outputs": [],
   "source": [
    "conn = sqlite3.connect(file_db)\n",
    "cur = conn.cursor()"
   ]
  },
  {
   "cell_type": "code",
   "execution_count": 37,
   "metadata": {},
   "outputs": [],
   "source": [
    "df.to_sql(table_name, conn, if_exists='append', index=False)"
   ]
  },
  {
   "cell_type": "markdown",
   "metadata": {},
   "source": [
    "#### create index after insert"
   ]
  },
  {
   "cell_type": "code",
   "execution_count": 38,
   "metadata": {},
   "outputs": [
    {
     "data": {
      "text/plain": [
       "<sqlite3.Cursor at 0x1733211a420>"
      ]
     },
     "execution_count": 38,
     "metadata": {},
     "output_type": "execute_result"
    }
   ],
   "source": [
    "if FIRST_TIME:\n",
    "    conn = sqlite3.connect(file_db)\n",
    "    cur = conn.cursor()\n",
    "\n",
    "    # Create table\n",
    "    cur.execute(create_index_sql)\n",
    "\n",
    "    conn.commit()\n",
    "    conn.close()"
   ]
  },
  {
   "cell_type": "code",
   "execution_count": 39,
   "metadata": {},
   "outputs": [],
   "source": [
    "conn = sqlite3.connect(file_db)\n",
    "cur = conn.cursor()"
   ]
  },
  {
   "cell_type": "code",
   "execution_count": 40,
   "metadata": {},
   "outputs": [
    {
     "data": {
      "text/plain": [
       "<sqlite3.Cursor at 0x173320e29d0>"
      ]
     },
     "execution_count": 40,
     "metadata": {},
     "output_type": "execute_result"
    },
    {
     "name": "stdout",
     "output_type": "stream",
     "text": [
      "(5808,)\n"
     ]
    }
   ],
   "source": [
    "cur.execute(f'SELECT count(*) FROM {table_name};')\n",
    "print(cur.fetchone())"
   ]
  },
  {
   "cell_type": "code",
   "execution_count": 41,
   "metadata": {},
   "outputs": [
    {
     "data": {
      "text/html": [
       "<div>\n",
       "<style scoped>\n",
       "    .dataframe tbody tr th:only-of-type {\n",
       "        vertical-align: middle;\n",
       "    }\n",
       "\n",
       "    .dataframe tbody tr th {\n",
       "        vertical-align: top;\n",
       "    }\n",
       "\n",
       "    .dataframe thead th {\n",
       "        text-align: right;\n",
       "    }\n",
       "</style>\n",
       "<table border=\"1\" class=\"dataframe\">\n",
       "  <thead>\n",
       "    <tr style=\"text-align: right;\">\n",
       "      <th></th>\n",
       "      <th>ticker</th>\n",
       "    </tr>\n",
       "  </thead>\n",
       "  <tbody>\n",
       "    <tr>\n",
       "      <th>0</th>\n",
       "      <td>QQQ</td>\n",
       "    </tr>\n",
       "  </tbody>\n",
       "</table>\n",
       "</div>"
      ],
      "text/plain": [
       "  ticker\n",
       "0    QQQ"
      ]
     },
     "execution_count": 41,
     "metadata": {},
     "output_type": "execute_result"
    }
   ],
   "source": [
    "sql_stmt = f'''\n",
    "SELECT distinct ticker \n",
    "FROM {table_name}\n",
    "order by ticker\n",
    ";\n",
    "'''\n",
    "df1 = pd.read_sql(sql_stmt, conn)\n",
    "df1"
   ]
  },
  {
   "cell_type": "code",
   "execution_count": 42,
   "metadata": {},
   "outputs": [],
   "source": [
    "FILE_DB = f\"C:\\\\gwgllc\\\\stooq.com\\\\db_{db_name}_TEST.sqlite\""
   ]
  },
  {
   "cell_type": "code",
   "execution_count": 43,
   "metadata": {},
   "outputs": [],
   "source": [
    "def _query_tickers():\n",
    "    conn = sqlite3.connect(FILE_DB)\n",
    "    sql_stmt = f'''\n",
    "    SELECT distinct ticker \n",
    "    FROM {table_name}\n",
    "    order by ticker\n",
    "    ;\n",
    "    '''\n",
    "    df1 = pd.read_sql(sql_stmt, conn)\n",
    "    conn.close()\n",
    "    return df1['ticker'].to_list()\n",
    "\n",
    "def _reformat_df_from_db(df):\n",
    "    \"\"\"rename columns for charting, parse date, set_index\n",
    "    \n",
    "        pd.to_datetime('20220406')\n",
    "        # Timestamp('2022-04-06 00:00:00')    \n",
    "    \"\"\"\n",
    "    df.rename(columns={'date_' : \"Date\", 'open_': \"Open\", 'high_':\"High\", \n",
    "                   'low_':\"Low\", 'close_':\"Close\", 'vol':\"Volume\"}, inplace=True)\n",
    "    df['Date'] = pd.to_datetime(df['Date'])\n",
    "    df.set_index(\"Date\", inplace=True)\n",
    "    return df\n",
    "\n",
    "def _query_chart_data(tickers, date_range):\n",
    "    tickers_str = str(tickers).replace('[','(').replace(']',')')\n",
    "    conn = sqlite3.connect(FILE_DB)\n",
    "    sql_stmt = f'''\n",
    "    SELECT * \n",
    "    FROM {table_name} \n",
    "    where ticker in {tickers_str} \n",
    "        and date_ between '{date_range[0]}' and '{date_range[1]}'\n",
    "    order by ticker, date_\n",
    "    '''\n",
    "    df = pd.read_sql(sql_stmt, conn)\n",
    "    conn.close()\n",
    "    return _reformat_df_from_db(df)\n",
    "\n",
    "def _query_date_range():\n",
    "    conn = sqlite3.connect(FILE_DB)\n",
    "    sql_stmt = f'''\n",
    "    SELECT min(date_) as begin_date, max(date_) as end_date\n",
    "    FROM {CHART_TABLE_NAME};\n",
    "    '''\n",
    "    df1 = pd.read_sql(sql_stmt, conn)\n",
    "    return df1.iloc[0][[\"begin_date\", \"end_date\"]].to_list()\n",
    "\n",
    "def _make_date_ranges(range_size=NUM_DAYS_PLOT, range_overlap=10):\n",
    "    \"\"\"generate date_range windows\n",
    "    \"\"\"\n",
    "    date_range = _query_date_range()\n",
    "    min_date = pd.to_datetime(date_range[0])\n",
    "    max_date = pd.to_datetime(date_range[1])\n",
    "    date_ranges = []\n",
    "    for i in range(0, (max_date - min_date).days, range_size):\n",
    "        date_stop = max_date - timedelta(days=i)\n",
    "        date_start = date_stop - timedelta(days=range_size+range_overlap)\n",
    "        date_ranges.append((datetime.strftime(date_start,'%Y-%m-%d'), \\\n",
    "                            datetime.strftime(date_stop,'%Y-%m-%d')))\n",
    "    return date_ranges"
   ]
  },
  {
   "cell_type": "raw",
   "metadata": {},
   "source": [
    "print(_make_date_ranges())\n",
    "\n",
    "[('2021-07-20', '2022-04-06'), ('2020-11-12', '2021-07-30'), ('2020-03-07', '2020-11-22'), ('2019-07-01', '2020-03-17'), ('2018-10-24', '2019-07-11'), ('2018-02-16', '2018-11-03'), ('2017-06-11', '2018-02-26'), ('2016-10-04', '2017-06-21'), ('2016-01-28', '2016-10-14'), ('2015-05-23', '2016-02-07'), ('2014-09-15', '2015-06-02'), ('2014-01-08', '2014-09-25'), ('2013-05-03', '2014-01-18'), ('2012-08-26', '2013-05-13'), ('2011-12-20', '2012-09-05'), ('2011-04-14', '2011-12-30'), ('2010-08-07', '2011-04-24'), ('2009-11-30', '2010-08-17'), ('2009-03-25', '2009-12-10'), ('2008-07-18', '2009-04-04'), ('2007-11-11', '2008-07-28'), ('2007-03-06', '2007-11-21'), ('2006-06-29', '2007-03-16'), ('2005-10-22', '2006-07-09'), ('2005-02-14', '2005-11-01'), ('2004-06-09', '2005-02-24'), ('2003-10-03', '2004-06-19'), ('2003-01-26', '2003-10-13'), ('2002-05-21', '2003-02-05'), ('2001-09-13', '2002-05-31'), ('2001-01-06', '2001-09-23'), ('2000-05-01', '2001-01-16'), ('1999-08-25', '2000-05-11'), ('1998-12-18', '1999-09-04')]"
   ]
  },
  {
   "cell_type": "code",
   "execution_count": 39,
   "metadata": {},
   "outputs": [],
   "source": [
    "list_date_ranges = [f\"{dr[0]} _ {dr[1]}\" for dr in _make_date_ranges()]\n",
    "# list_date_ranges"
   ]
  },
  {
   "cell_type": "code",
   "execution_count": 40,
   "metadata": {},
   "outputs": [
    {
     "data": {
      "text/plain": [
       "[' _ ',\n",
       " '2021-07-20 _ 2022-04-06',\n",
       " '2020-11-12 _ 2021-07-30',\n",
       " '2020-03-07 _ 2020-11-22',\n",
       " '2019-07-01 _ 2020-03-17',\n",
       " '2018-10-24 _ 2019-07-11',\n",
       " '2018-02-16 _ 2018-11-03',\n",
       " '2017-06-11 _ 2018-02-26',\n",
       " '2016-10-04 _ 2017-06-21',\n",
       " '2016-01-28 _ 2016-10-14',\n",
       " '2015-05-23 _ 2016-02-07',\n",
       " '2014-09-15 _ 2015-06-02',\n",
       " '2014-01-08 _ 2014-09-25',\n",
       " '2013-05-03 _ 2014-01-18',\n",
       " '2012-08-26 _ 2013-05-13',\n",
       " '2011-12-20 _ 2012-09-05',\n",
       " '2011-04-14 _ 2011-12-30',\n",
       " '2010-08-07 _ 2011-04-24',\n",
       " '2009-11-30 _ 2010-08-17',\n",
       " '2009-03-25 _ 2009-12-10',\n",
       " '2008-07-18 _ 2009-04-04',\n",
       " '2007-11-11 _ 2008-07-28',\n",
       " '2007-03-06 _ 2007-11-21',\n",
       " '2006-06-29 _ 2007-03-16',\n",
       " '2005-10-22 _ 2006-07-09',\n",
       " '2005-02-14 _ 2005-11-01',\n",
       " '2004-06-09 _ 2005-02-24',\n",
       " '2003-10-03 _ 2004-06-19',\n",
       " '2003-01-26 _ 2003-10-13',\n",
       " '2002-05-21 _ 2003-02-05',\n",
       " '2001-09-13 _ 2002-05-31',\n",
       " '2001-01-06 _ 2001-09-23',\n",
       " '2000-05-01 _ 2001-01-16',\n",
       " '1999-08-25 _ 2000-05-11',\n",
       " '1998-12-18 _ 1999-09-04']"
      ]
     },
     "execution_count": 40,
     "metadata": {},
     "output_type": "execute_result"
    }
   ],
   "source": [
    "list_date_ranges.insert(0,' _ ')\n",
    "list_date_ranges"
   ]
  },
  {
   "cell_type": "code",
   "execution_count": 33,
   "metadata": {},
   "outputs": [
    {
     "data": {
      "text/plain": [
       "Timestamp('1998-12-18 00:00:00')"
      ]
     },
     "execution_count": 33,
     "metadata": {},
     "output_type": "execute_result"
    }
   ],
   "source": [
    "pd.to_datetime('1998-12-18')"
   ]
  },
  {
   "cell_type": "code",
   "execution_count": 44,
   "metadata": {},
   "outputs": [],
   "source": [
    "def _title_xy(ticker):\n",
    "    # position title manually\n",
    "    return {\"title\": f\"{ticker.upper()}\",  \"x\": 0.75, \"y\": 0.95}\n",
    "\n",
    "def _color_rsi_avg(v):\n",
    "    if v > 0: return '#DCF7E5'\n",
    "    elif v < 0: return '#F6D5F7'\n",
    "    return YELLOW\n",
    "\n",
    "def _color_signal(v):\n",
    "    if v > 0: return 'g'\n",
    "    elif v < 0: return 'r'\n",
    "    return YELLOW\n",
    "\n",
    "def gen_chart(ticker, df, num=0, panid_price=PANID_PRICE, panid_vol=PANID_VOL,\n",
    "              panid_rsi=PANID_RSI, panid_signal=PANID_SIGNAL, image_path=\"images\"):\n",
    "    \"\"\"\n",
    "    Generate chart using Mplfinance\n",
    "    \"\"\"\n",
    "    ema_fast_u_plot = mpf.make_addplot(df[\"ema_fast_u\"], panel=panid_price, color=LIGHT_BLACK, linestyle=\"solid\")\n",
    "    ema_fast_d_plot = mpf.make_addplot(df[\"ema_fast_d\"], panel=panid_price, color=LIGHT_BLACK, linestyle=\"solid\")\n",
    "    ema_slow_plot = mpf.make_addplot(df[\"ema_slow\"], panel=panid_price, color='b', width=2, linestyle=\"solid\")\n",
    "    ema_long_plot = mpf.make_addplot(df[\"ema_long\"], panel=panid_price, width=2, color='k')  # magenta\n",
    "    \n",
    "    rsi_min, rsi_max = np.nanmin(df[\"rsi\"]), np.nanmax(df[\"rsi\"])\n",
    "    rsi_avg_plot = mpf.make_addplot(df[\"rsi_avg\"], panel=panid_rsi, type=\"bar\", \n",
    "                            color=[_color_rsi_avg(v)  for v in df[\"rsi_avg\"]], \n",
    "                            ylim=(rsi_min,rsi_max))\n",
    "    rsi_avg_plot2 = mpf.make_addplot(df[\"rsi_avg\"], panel=panid_rsi, color=\"b\", width=1, linestyle=\"solid\",\n",
    "                            ylim=(rsi_min,rsi_max))\n",
    "    rsi_plot = mpf.make_addplot(df[\"rsi\"], panel=panid_rsi, color='r', width=1, #title=f\"{ticker}-RSI\",\n",
    "                            fill_between=dict(y1=df[\"rsi_d\"].values,y2=df[\"rsi_u\"].values,alpha=0.15,color='b'),\n",
    "                            ylim=(rsi_min,rsi_max))\n",
    "    signal_plot = mpf.make_addplot(df[\"rsi_signal\"], panel=panid_signal, type=\"bar\", \n",
    "                            color=[_color_signal(v) for v in df[\"rsi_signal\"]], \n",
    "                            ylim=(-1,1))                            \n",
    "\n",
    "    vol_avg_plot = mpf.make_addplot(df[\"vol_avg\"], panel=panid_vol, color='k')\n",
    "\n",
    "    plots = [\n",
    "            # panel-0\n",
    "            ema_fast_u_plot, ema_fast_d_plot, ema_slow_plot, ema_long_plot # ema_slow_u_plot, ema_slow_d_plot, \n",
    "            # panel-1\n",
    "            , rsi_avg_plot, rsi_plot, rsi_avg_plot2  # , rsi_u_plot, rsi_d_plot \n",
    "            # panel-2\n",
    "            , vol_avg_plot\n",
    "            # panel-3\n",
    "            , signal_plot\n",
    "        ]\n",
    "    file_img = f\"{image_path}/{ticker}-{str(num).zfill(2)}.png\"\n",
    "    print(file_img)\n",
    "    mpf.plot(df, type='candle', \n",
    "            style='yahoo', \n",
    "            fill_between=dict(y1=df[\"ema_fast_d\"].values,y2=df[\"ema_fast_u\"].values,alpha=0.15,color='b'),\n",
    "            panel_ratios=PANEL_RATIOS,\n",
    "            addplot=plots, \n",
    "            title=_title_xy(ticker),\n",
    "            volume=True, volume_panel=panid_vol, \n",
    "            ylabel=\"\", ylabel_lower='',\n",
    "            xrotation=0,\n",
    "            datetime_format='%Y-%m-%d',\n",
    "            savefig=file_img,\n",
    "            figsize=(FIGURE_WIDTH,FIGURE_HEIGHT),\n",
    "            tight_layout=True,\n",
    "            show_nontrading=True\n",
    "        )  \n",
    "    return {\"ticker\": ticker, \"file_img\": file_img}"
   ]
  },
  {
   "cell_type": "code",
   "execution_count": 45,
   "metadata": {},
   "outputs": [],
   "source": [
    "df = _query_chart_data(_query_tickers(), ('20210101','20220601'))"
   ]
  },
  {
   "cell_type": "code",
   "execution_count": 46,
   "metadata": {},
   "outputs": [
    {
     "data": {
      "text/html": [
       "<div>\n",
       "<style scoped>\n",
       "    .dataframe tbody tr th:only-of-type {\n",
       "        vertical-align: middle;\n",
       "    }\n",
       "\n",
       "    .dataframe tbody tr th {\n",
       "        vertical-align: top;\n",
       "    }\n",
       "\n",
       "    .dataframe thead th {\n",
       "        text-align: right;\n",
       "    }\n",
       "</style>\n",
       "<table border=\"1\" class=\"dataframe\">\n",
       "  <thead>\n",
       "    <tr style=\"text-align: right;\">\n",
       "      <th></th>\n",
       "      <th>ticker</th>\n",
       "      <th>Open</th>\n",
       "      <th>High</th>\n",
       "      <th>Low</th>\n",
       "      <th>Close</th>\n",
       "      <th>volume_</th>\n",
       "      <th>w_p</th>\n",
       "      <th>ema_fast</th>\n",
       "      <th>ema_slow</th>\n",
       "      <th>ema_long</th>\n",
       "      <th>...</th>\n",
       "      <th>Volume</th>\n",
       "      <th>vol_avg</th>\n",
       "      <th>rsi</th>\n",
       "      <th>rsi_avg</th>\n",
       "      <th>rsi_u</th>\n",
       "      <th>rsi_d</th>\n",
       "      <th>rsi_signal</th>\n",
       "      <th>del_ema_slow</th>\n",
       "      <th>del_ema_long</th>\n",
       "      <th>del_rsi_avg</th>\n",
       "    </tr>\n",
       "    <tr>\n",
       "      <th>Date</th>\n",
       "      <th></th>\n",
       "      <th></th>\n",
       "      <th></th>\n",
       "      <th></th>\n",
       "      <th></th>\n",
       "      <th></th>\n",
       "      <th></th>\n",
       "      <th></th>\n",
       "      <th></th>\n",
       "      <th></th>\n",
       "      <th></th>\n",
       "      <th></th>\n",
       "      <th></th>\n",
       "      <th></th>\n",
       "      <th></th>\n",
       "      <th></th>\n",
       "      <th></th>\n",
       "      <th></th>\n",
       "      <th></th>\n",
       "      <th></th>\n",
       "      <th></th>\n",
       "    </tr>\n",
       "  </thead>\n",
       "  <tbody>\n",
       "    <tr>\n",
       "      <th>2021-01-04</th>\n",
       "      <td>QQQ</td>\n",
       "      <td>313.61</td>\n",
       "      <td>313.79</td>\n",
       "      <td>303.72</td>\n",
       "      <td>307.83</td>\n",
       "      <td>45523231</td>\n",
       "      <td>308.2925</td>\n",
       "      <td>307.4427</td>\n",
       "      <td>297.2056</td>\n",
       "      <td>274.3720</td>\n",
       "      <td>...</td>\n",
       "      <td>45.5232</td>\n",
       "      <td>27.8293</td>\n",
       "      <td>8.4733</td>\n",
       "      <td>8.3747</td>\n",
       "      <td>8.9747</td>\n",
       "      <td>7.7747</td>\n",
       "      <td>0.0986</td>\n",
       "      <td>0.4525</td>\n",
       "      <td>0.4553</td>\n",
       "      <td>0.0082</td>\n",
       "    </tr>\n",
       "    <tr>\n",
       "      <th>2021-01-05</th>\n",
       "      <td>QQQ</td>\n",
       "      <td>306.82</td>\n",
       "      <td>310.65</td>\n",
       "      <td>306.82</td>\n",
       "      <td>310.37</td>\n",
       "      <td>29464073</td>\n",
       "      <td>309.5525</td>\n",
       "      <td>307.7064</td>\n",
       "      <td>297.6898</td>\n",
       "      <td>274.8380</td>\n",
       "      <td>...</td>\n",
       "      <td>29.4641</td>\n",
       "      <td>27.9850</td>\n",
       "      <td>8.6774</td>\n",
       "      <td>8.3980</td>\n",
       "      <td>8.9980</td>\n",
       "      <td>7.7980</td>\n",
       "      <td>0.2794</td>\n",
       "      <td>0.4842</td>\n",
       "      <td>0.4660</td>\n",
       "      <td>0.0233</td>\n",
       "    </tr>\n",
       "    <tr>\n",
       "      <th>2021-01-06</th>\n",
       "      <td>QQQ</td>\n",
       "      <td>305.53</td>\n",
       "      <td>310.39</td>\n",
       "      <td>304.52</td>\n",
       "      <td>306.07</td>\n",
       "      <td>53062950</td>\n",
       "      <td>306.7625</td>\n",
       "      <td>307.5884</td>\n",
       "      <td>298.0456</td>\n",
       "      <td>275.2608</td>\n",
       "      <td>...</td>\n",
       "      <td>53.0630</td>\n",
       "      <td>30.3734</td>\n",
       "      <td>8.0394</td>\n",
       "      <td>8.3704</td>\n",
       "      <td>8.9704</td>\n",
       "      <td>7.7704</td>\n",
       "      <td>-0.3310</td>\n",
       "      <td>0.3558</td>\n",
       "      <td>0.4228</td>\n",
       "      <td>-0.0276</td>\n",
       "    </tr>\n",
       "    <tr>\n",
       "      <th>2021-01-07</th>\n",
       "      <td>QQQ</td>\n",
       "      <td>308.80</td>\n",
       "      <td>314.33</td>\n",
       "      <td>308.77</td>\n",
       "      <td>313.48</td>\n",
       "      <td>30540630</td>\n",
       "      <td>312.5150</td>\n",
       "      <td>308.2042</td>\n",
       "      <td>298.6131</td>\n",
       "      <td>275.7543</td>\n",
       "      <td>...</td>\n",
       "      <td>30.5406</td>\n",
       "      <td>30.3893</td>\n",
       "      <td>8.9685</td>\n",
       "      <td>8.4164</td>\n",
       "      <td>9.0164</td>\n",
       "      <td>7.8164</td>\n",
       "      <td>0.5521</td>\n",
       "      <td>0.5674</td>\n",
       "      <td>0.4934</td>\n",
       "      <td>0.0460</td>\n",
       "    </tr>\n",
       "    <tr>\n",
       "      <th>2021-01-08</th>\n",
       "      <td>QQQ</td>\n",
       "      <td>315.82</td>\n",
       "      <td>317.86</td>\n",
       "      <td>313.58</td>\n",
       "      <td>317.51</td>\n",
       "      <td>34118733</td>\n",
       "      <td>316.6150</td>\n",
       "      <td>309.2556</td>\n",
       "      <td>299.3190</td>\n",
       "      <td>276.2955</td>\n",
       "      <td>...</td>\n",
       "      <td>34.1187</td>\n",
       "      <td>30.7445</td>\n",
       "      <td>9.6123</td>\n",
       "      <td>8.5084</td>\n",
       "      <td>9.1084</td>\n",
       "      <td>7.9084</td>\n",
       "      <td>1.1039</td>\n",
       "      <td>0.7060</td>\n",
       "      <td>0.5412</td>\n",
       "      <td>0.0920</td>\n",
       "    </tr>\n",
       "    <tr>\n",
       "      <th>...</th>\n",
       "      <td>...</td>\n",
       "      <td>...</td>\n",
       "      <td>...</td>\n",
       "      <td>...</td>\n",
       "      <td>...</td>\n",
       "      <td>...</td>\n",
       "      <td>...</td>\n",
       "      <td>...</td>\n",
       "      <td>...</td>\n",
       "      <td>...</td>\n",
       "      <td>...</td>\n",
       "      <td>...</td>\n",
       "      <td>...</td>\n",
       "      <td>...</td>\n",
       "      <td>...</td>\n",
       "      <td>...</td>\n",
       "      <td>...</td>\n",
       "      <td>...</td>\n",
       "      <td>...</td>\n",
       "      <td>...</td>\n",
       "      <td>...</td>\n",
       "    </tr>\n",
       "    <tr>\n",
       "      <th>2022-03-31</th>\n",
       "      <td>QQQ</td>\n",
       "      <td>367.24</td>\n",
       "      <td>367.60</td>\n",
       "      <td>361.68</td>\n",
       "      <td>362.54</td>\n",
       "      <td>67011405</td>\n",
       "      <td>363.5900</td>\n",
       "      <td>354.3468</td>\n",
       "      <td>353.6093</td>\n",
       "      <td>360.6706</td>\n",
       "      <td>...</td>\n",
       "      <td>67.0114</td>\n",
       "      <td>71.1906</td>\n",
       "      <td>0.8059</td>\n",
       "      <td>-1.0645</td>\n",
       "      <td>-0.4645</td>\n",
       "      <td>-1.6645</td>\n",
       "      <td>1.8704</td>\n",
       "      <td>0.4074</td>\n",
       "      <td>0.0392</td>\n",
       "      <td>0.1559</td>\n",
       "    </tr>\n",
       "    <tr>\n",
       "      <th>2022-04-01</th>\n",
       "      <td>QQQ</td>\n",
       "      <td>362.81</td>\n",
       "      <td>363.61</td>\n",
       "      <td>358.59</td>\n",
       "      <td>361.85</td>\n",
       "      <td>54527761</td>\n",
       "      <td>361.4750</td>\n",
       "      <td>355.2379</td>\n",
       "      <td>353.9177</td>\n",
       "      <td>360.6812</td>\n",
       "      <td>...</td>\n",
       "      <td>54.5278</td>\n",
       "      <td>69.6036</td>\n",
       "      <td>0.5145</td>\n",
       "      <td>-0.9430</td>\n",
       "      <td>-0.3430</td>\n",
       "      <td>-1.5430</td>\n",
       "      <td>1.4575</td>\n",
       "      <td>0.3085</td>\n",
       "      <td>0.0107</td>\n",
       "      <td>0.1215</td>\n",
       "    </tr>\n",
       "    <tr>\n",
       "      <th>2022-04-04</th>\n",
       "      <td>QQQ</td>\n",
       "      <td>362.71</td>\n",
       "      <td>369.31</td>\n",
       "      <td>362.44</td>\n",
       "      <td>369.30</td>\n",
       "      <td>45950171</td>\n",
       "      <td>367.5875</td>\n",
       "      <td>356.7816</td>\n",
       "      <td>354.4538</td>\n",
       "      <td>360.7727</td>\n",
       "      <td>...</td>\n",
       "      <td>45.9502</td>\n",
       "      <td>67.3509</td>\n",
       "      <td>1.3295</td>\n",
       "      <td>-0.7682</td>\n",
       "      <td>-0.1682</td>\n",
       "      <td>-1.3682</td>\n",
       "      <td>2.0977</td>\n",
       "      <td>0.5361</td>\n",
       "      <td>0.0915</td>\n",
       "      <td>0.1748</td>\n",
       "    </tr>\n",
       "    <tr>\n",
       "      <th>2022-04-05</th>\n",
       "      <td>QQQ</td>\n",
       "      <td>367.81</td>\n",
       "      <td>368.54</td>\n",
       "      <td>359.93</td>\n",
       "      <td>361.10</td>\n",
       "      <td>62738661</td>\n",
       "      <td>362.6675</td>\n",
       "      <td>357.5173</td>\n",
       "      <td>354.7759</td>\n",
       "      <td>360.7978</td>\n",
       "      <td>...</td>\n",
       "      <td>62.7387</td>\n",
       "      <td>66.9116</td>\n",
       "      <td>0.6513</td>\n",
       "      <td>-0.6590</td>\n",
       "      <td>-0.0590</td>\n",
       "      <td>-1.2590</td>\n",
       "      <td>1.3103</td>\n",
       "      <td>0.3221</td>\n",
       "      <td>0.0251</td>\n",
       "      <td>0.1092</td>\n",
       "    </tr>\n",
       "    <tr>\n",
       "      <th>2022-04-06</th>\n",
       "      <td>QQQ</td>\n",
       "      <td>355.65</td>\n",
       "      <td>356.78</td>\n",
       "      <td>350.56</td>\n",
       "      <td>353.24</td>\n",
       "      <td>89720554</td>\n",
       "      <td>353.4550</td>\n",
       "      <td>357.0095</td>\n",
       "      <td>354.7241</td>\n",
       "      <td>360.7005</td>\n",
       "      <td>...</td>\n",
       "      <td>89.7206</td>\n",
       "      <td>69.0839</td>\n",
       "      <td>-0.5838</td>\n",
       "      <td>-0.6532</td>\n",
       "      <td>-0.0532</td>\n",
       "      <td>-1.2532</td>\n",
       "      <td>0.0694</td>\n",
       "      <td>-0.0518</td>\n",
       "      <td>-0.0973</td>\n",
       "      <td>0.0058</td>\n",
       "    </tr>\n",
       "  </tbody>\n",
       "</table>\n",
       "<p>318 rows × 24 columns</p>\n",
       "</div>"
      ],
      "text/plain": [
       "           ticker    Open    High     Low   Close   volume_       w_p  \\\n",
       "Date                                                                    \n",
       "2021-01-04    QQQ  313.61  313.79  303.72  307.83  45523231  308.2925   \n",
       "2021-01-05    QQQ  306.82  310.65  306.82  310.37  29464073  309.5525   \n",
       "2021-01-06    QQQ  305.53  310.39  304.52  306.07  53062950  306.7625   \n",
       "2021-01-07    QQQ  308.80  314.33  308.77  313.48  30540630  312.5150   \n",
       "2021-01-08    QQQ  315.82  317.86  313.58  317.51  34118733  316.6150   \n",
       "...           ...     ...     ...     ...     ...       ...       ...   \n",
       "2022-03-31    QQQ  367.24  367.60  361.68  362.54  67011405  363.5900   \n",
       "2022-04-01    QQQ  362.81  363.61  358.59  361.85  54527761  361.4750   \n",
       "2022-04-04    QQQ  362.71  369.31  362.44  369.30  45950171  367.5875   \n",
       "2022-04-05    QQQ  367.81  368.54  359.93  361.10  62738661  362.6675   \n",
       "2022-04-06    QQQ  355.65  356.78  350.56  353.24  89720554  353.4550   \n",
       "\n",
       "            ema_fast  ema_slow  ema_long  ...   Volume  vol_avg     rsi  \\\n",
       "Date                                      ...                             \n",
       "2021-01-04  307.4427  297.2056  274.3720  ...  45.5232  27.8293  8.4733   \n",
       "2021-01-05  307.7064  297.6898  274.8380  ...  29.4641  27.9850  8.6774   \n",
       "2021-01-06  307.5884  298.0456  275.2608  ...  53.0630  30.3734  8.0394   \n",
       "2021-01-07  308.2042  298.6131  275.7543  ...  30.5406  30.3893  8.9685   \n",
       "2021-01-08  309.2556  299.3190  276.2955  ...  34.1187  30.7445  9.6123   \n",
       "...              ...       ...       ...  ...      ...      ...     ...   \n",
       "2022-03-31  354.3468  353.6093  360.6706  ...  67.0114  71.1906  0.8059   \n",
       "2022-04-01  355.2379  353.9177  360.6812  ...  54.5278  69.6036  0.5145   \n",
       "2022-04-04  356.7816  354.4538  360.7727  ...  45.9502  67.3509  1.3295   \n",
       "2022-04-05  357.5173  354.7759  360.7978  ...  62.7387  66.9116  0.6513   \n",
       "2022-04-06  357.0095  354.7241  360.7005  ...  89.7206  69.0839 -0.5838   \n",
       "\n",
       "            rsi_avg   rsi_u   rsi_d  rsi_signal  del_ema_slow  del_ema_long  \\\n",
       "Date                                                                          \n",
       "2021-01-04   8.3747  8.9747  7.7747      0.0986        0.4525        0.4553   \n",
       "2021-01-05   8.3980  8.9980  7.7980      0.2794        0.4842        0.4660   \n",
       "2021-01-06   8.3704  8.9704  7.7704     -0.3310        0.3558        0.4228   \n",
       "2021-01-07   8.4164  9.0164  7.8164      0.5521        0.5674        0.4934   \n",
       "2021-01-08   8.5084  9.1084  7.9084      1.1039        0.7060        0.5412   \n",
       "...             ...     ...     ...         ...           ...           ...   \n",
       "2022-03-31  -1.0645 -0.4645 -1.6645      1.8704        0.4074        0.0392   \n",
       "2022-04-01  -0.9430 -0.3430 -1.5430      1.4575        0.3085        0.0107   \n",
       "2022-04-04  -0.7682 -0.1682 -1.3682      2.0977        0.5361        0.0915   \n",
       "2022-04-05  -0.6590 -0.0590 -1.2590      1.3103        0.3221        0.0251   \n",
       "2022-04-06  -0.6532 -0.0532 -1.2532      0.0694       -0.0518       -0.0973   \n",
       "\n",
       "            del_rsi_avg  \n",
       "Date                     \n",
       "2021-01-04       0.0082  \n",
       "2021-01-05       0.0233  \n",
       "2021-01-06      -0.0276  \n",
       "2021-01-07       0.0460  \n",
       "2021-01-08       0.0920  \n",
       "...                 ...  \n",
       "2022-03-31       0.1559  \n",
       "2022-04-01       0.1215  \n",
       "2022-04-04       0.1748  \n",
       "2022-04-05       0.1092  \n",
       "2022-04-06       0.0058  \n",
       "\n",
       "[318 rows x 24 columns]"
      ]
     },
     "execution_count": 46,
     "metadata": {},
     "output_type": "execute_result"
    }
   ],
   "source": [
    "df"
   ]
  },
  {
   "cell_type": "raw",
   "metadata": {},
   "source": [
    "del [df2, df2_]"
   ]
  },
  {
   "cell_type": "code",
   "execution_count": 47,
   "metadata": {},
   "outputs": [
    {
     "name": "stdout",
     "output_type": "stream",
     "text": [
      "c:\\temp/QQQ-00.png\n"
     ]
    }
   ],
   "source": [
    "x = gen_chart(ticker, df, image_path=\"c:\\\\temp\")"
   ]
  },
  {
   "cell_type": "code",
   "execution_count": 48,
   "metadata": {},
   "outputs": [
    {
     "data": {
      "text/plain": [
       "{'ticker': 'QQQ', 'file_img': 'c:\\\\temp/QQQ-00.png'}"
      ]
     },
     "execution_count": 48,
     "metadata": {},
     "output_type": "execute_result"
    }
   ],
   "source": [
    "x"
   ]
  },
  {
   "cell_type": "code",
   "execution_count": null,
   "metadata": {},
   "outputs": [],
   "source": []
  },
  {
   "cell_type": "code",
   "execution_count": null,
   "metadata": {},
   "outputs": [],
   "source": []
  },
  {
   "cell_type": "code",
   "execution_count": null,
   "metadata": {},
   "outputs": [],
   "source": []
  },
  {
   "cell_type": "code",
   "execution_count": 87,
   "metadata": {},
   "outputs": [
    {
     "data": {
      "text/plain": [
       "['QQQ']"
      ]
     },
     "execution_count": 87,
     "metadata": {},
     "output_type": "execute_result"
    }
   ],
   "source": [
    "_query_tickers()"
   ]
  },
  {
   "cell_type": "code",
   "execution_count": 65,
   "metadata": {},
   "outputs": [
    {
     "name": "stdout",
     "output_type": "stream",
     "text": [
      "\n",
      "SELECT * \n",
      "FROM quote_ta \n",
      "where ticker in ('QQQ') \n",
      "    and date_ between '20210101' and '20220601'\n",
      "order by ticker, date_\n",
      ";\n",
      "\n"
     ]
    }
   ],
   "source": [
    "tickers_ = df1['ticker'].to_list()\n",
    "tickers_str = str(tickers_).replace('[','(').replace(']',')')\n",
    "date_range = ('20210101','20220601')\n",
    "\n",
    "sql_stmt = f'''\n",
    "SELECT * \n",
    "FROM {table_name} \n",
    "where ticker in {tickers_str} \n",
    "    and date_ between '{date_range[0]}' and '{date_range[1]}'\n",
    "order by ticker, date_\n",
    ";\n",
    "'''\n",
    "print(sql_stmt)"
   ]
  },
  {
   "cell_type": "code",
   "execution_count": null,
   "metadata": {},
   "outputs": [],
   "source": []
  },
  {
   "cell_type": "code",
   "execution_count": null,
   "metadata": {},
   "outputs": [],
   "source": []
  },
  {
   "cell_type": "code",
   "execution_count": null,
   "metadata": {},
   "outputs": [],
   "source": []
  },
  {
   "cell_type": "raw",
   "metadata": {},
   "source": [
    "cur.execute(sql_stmt)\n",
    "rows = cur.fetchall()\n",
    "rows"
   ]
  },
  {
   "cell_type": "code",
   "execution_count": null,
   "metadata": {},
   "outputs": [],
   "source": []
  },
  {
   "cell_type": "code",
   "execution_count": 38,
   "metadata": {},
   "outputs": [
    {
     "data": {
      "text/plain": [
       "<sqlite3.Cursor at 0x27717b5c9d0>"
      ]
     },
     "execution_count": 38,
     "metadata": {},
     "output_type": "execute_result"
    }
   ],
   "source": [
    "# c.execute(f'SELECT * FROM {table_name} order by ticker,date_ limit 10;')\n",
    "cur.execute(f'SELECT * FROM {table_name} limit 10;')\n",
    "rows = cur.fetchall()"
   ]
  },
  {
   "cell_type": "code",
   "execution_count": 39,
   "metadata": {},
   "outputs": [
    {
     "data": {
      "text/plain": [
       "[('QQQ',\n",
       "  '19990310',\n",
       "  44.334,\n",
       "  44.361,\n",
       "  43.605,\n",
       "  44.279,\n",
       "  12066145,\n",
       "  44.131,\n",
       "  44.131,\n",
       "  44.131,\n",
       "  44.131,\n",
       "  44.6602,\n",
       "  43.6018,\n",
       "  44.887,\n",
       "  43.375,\n",
       "  12.0661,\n",
       "  12.0661,\n",
       "  None,\n",
       "  None,\n",
       "  None,\n",
       "  None,\n",
       "  None),\n",
       " ('QQQ',\n",
       "  '19990311',\n",
       "  44.601,\n",
       "  44.856,\n",
       "  43.624,\n",
       "  44.488,\n",
       "  22347406,\n",
       "  44.364,\n",
       "  44.2553,\n",
       "  44.2498,\n",
       "  44.2483,\n",
       "  44.9749,\n",
       "  43.5357,\n",
       "  45.2534,\n",
       "  43.2463,\n",
       "  22.3474,\n",
       "  17.4638,\n",
       "  None,\n",
       "  None,\n",
       "  None,\n",
       "  None,\n",
       "  None),\n",
       " ('QQQ',\n",
       "  '19990312',\n",
       "  44.333,\n",
       "  44.36,\n",
       "  43.061,\n",
       "  43.414,\n",
       "  20164977,\n",
       "  43.5622,\n",
       "  43.9928,\n",
       "  44.0114,\n",
       "  44.0165,\n",
       "  44.7945,\n",
       "  43.1912,\n",
       "  45.1214,\n",
       "  42.9014,\n",
       "  20.165,\n",
       "  18.4557,\n",
       "  None,\n",
       "  None,\n",
       "  None,\n",
       "  None,\n",
       "  None),\n",
       " ('QQQ',\n",
       "  '19990315',\n",
       "  43.734,\n",
       "  44.707,\n",
       "  43.272,\n",
       "  44.658,\n",
       "  14690628,\n",
       "  44.3237,\n",
       "  44.0928,\n",
       "  44.0942,\n",
       "  44.0949,\n",
       "  44.9686,\n",
       "  43.217,\n",
       "  45.2955,\n",
       "  42.893,\n",
       "  14.6906,\n",
       "  17.3688,\n",
       "  None,\n",
       "  None,\n",
       "  None,\n",
       "  None,\n",
       "  None),\n",
       " ('QQQ',\n",
       "  '19990316',\n",
       "  44.849,\n",
       "  45.227,\n",
       "  44.36,\n",
       "  45.041,\n",
       "  11313996,\n",
       "  44.9172,\n",
       "  44.3044,\n",
       "  44.2723,\n",
       "  44.2638,\n",
       "  45.092,\n",
       "  43.5167,\n",
       "  45.3956,\n",
       "  43.149,\n",
       "  11.314,\n",
       "  15.9042,\n",
       "  None,\n",
       "  None,\n",
       "  None,\n",
       "  None,\n",
       "  None),\n",
       " ('QQQ',\n",
       "  '19990317',\n",
       "  45.037,\n",
       "  45.093,\n",
       "  44.576,\n",
       "  44.71,\n",
       "  9145032,\n",
       "  44.7722,\n",
       "  44.4105,\n",
       "  44.3641,\n",
       "  44.3514,\n",
       "  45.0687,\n",
       "  43.7523,\n",
       "  45.3652,\n",
       "  43.3631,\n",
       "  9.145,\n",
       "  14.4783,\n",
       "  None,\n",
       "  None,\n",
       "  None,\n",
       "  None,\n",
       "  None),\n",
       " ('QQQ',\n",
       "  '19990318',\n",
       "  44.661,\n",
       "  45.608,\n",
       "  44.649,\n",
       "  45.58,\n",
       "  11182358,\n",
       "  45.3542,\n",
       "  44.6047,\n",
       "  44.5231,\n",
       "  44.5004,\n",
       "  45.2667,\n",
       "  43.9428,\n",
       "  45.5166,\n",
       "  43.5296,\n",
       "  11.1824,\n",
       "  13.8551,\n",
       "  None,\n",
       "  None,\n",
       "  None,\n",
       "  None,\n",
       "  None),\n",
       " ('QQQ',\n",
       "  '19990319',\n",
       "  46.178,\n",
       "  46.178,\n",
       "  44.386,\n",
       "  44.417,\n",
       "  16514104,\n",
       "  44.8495,\n",
       "  44.6513,\n",
       "  44.5699,\n",
       "  44.5461,\n",
       "  45.4779,\n",
       "  43.8248,\n",
       "  45.6932,\n",
       "  43.4465,\n",
       "  16.5141,\n",
       "  14.3147,\n",
       "  None,\n",
       "  None,\n",
       "  None,\n",
       "  None,\n",
       "  None),\n",
       " ('QQQ',\n",
       "  '19990322',\n",
       "  44.599,\n",
       "  44.706,\n",
       "  43.785,\n",
       "  43.867,\n",
       "  11590370,\n",
       "  44.0562,\n",
       "  44.545,\n",
       "  44.5032,\n",
       "  44.4888,\n",
       "  45.3224,\n",
       "  43.7676,\n",
       "  45.5963,\n",
       "  43.4102,\n",
       "  11.5904,\n",
       "  13.8777,\n",
       "  None,\n",
       "  None,\n",
       "  None,\n",
       "  None,\n",
       "  None),\n",
       " ('QQQ',\n",
       "  '19990323',\n",
       "  43.627,\n",
       "  43.788,\n",
       "  42.248,\n",
       "  42.328,\n",
       "  25283966,\n",
       "  42.673,\n",
       "  44.2274,\n",
       "  44.2856,\n",
       "  44.2961,\n",
       "  45.0845,\n",
       "  43.3704,\n",
       "  45.441,\n",
       "  43.1301,\n",
       "  25.284,\n",
       "  15.5954,\n",
       "  None,\n",
       "  None,\n",
       "  None,\n",
       "  None,\n",
       "  None)]"
      ]
     },
     "execution_count": 39,
     "metadata": {},
     "output_type": "execute_result"
    }
   ],
   "source": [
    "rows"
   ]
  },
  {
   "cell_type": "raw",
   "metadata": {},
   "source": [
    "insert_sql = \"\"\"\n",
    "insert into quote_ta(\n",
    "ticker,date_,open_,high_,low_,close_,volume_,w_p,ema_fast,ema_slow,ema_fast_d,ema_slow_u,ema_slow_d,vol,vol_avg,rsi,rsi_avg,rsi_u,rsi_d,rsi_signal\n",
    ")     \n",
    "values (\n",
    "'QQQ','2022-04-06',355.65,356.78,350.56,353.24,89720554,353.455,357.009524,354.724103,352.329906,362.337633,347.110573,89.720554,69.083925,-0.583806,-0.653224,-0.053224,-1.253224,0.069417\n",
    ");\n",
    "\"\"\"\n",
    "\n",
    "cur.execute(insert_sql)"
   ]
  },
  {
   "cell_type": "code",
   "execution_count": null,
   "metadata": {},
   "outputs": [],
   "source": []
  },
  {
   "cell_type": "code",
   "execution_count": null,
   "metadata": {},
   "outputs": [],
   "source": []
  },
  {
   "cell_type": "code",
   "execution_count": null,
   "metadata": {},
   "outputs": [],
   "source": []
  },
  {
   "cell_type": "code",
   "execution_count": null,
   "metadata": {},
   "outputs": [],
   "source": []
  },
  {
   "cell_type": "code",
   "execution_count": null,
   "metadata": {},
   "outputs": [],
   "source": []
  },
  {
   "cell_type": "code",
   "execution_count": null,
   "metadata": {},
   "outputs": [],
   "source": []
  },
  {
   "cell_type": "code",
   "execution_count": null,
   "metadata": {},
   "outputs": [],
   "source": []
  },
  {
   "cell_type": "code",
   "execution_count": null,
   "metadata": {},
   "outputs": [],
   "source": []
  },
  {
   "cell_type": "code",
   "execution_count": null,
   "metadata": {},
   "outputs": [],
   "source": []
  },
  {
   "cell_type": "code",
   "execution_count": null,
   "metadata": {},
   "outputs": [],
   "source": []
  },
  {
   "cell_type": "code",
   "execution_count": 76,
   "metadata": {},
   "outputs": [],
   "source": [
    "from datetime import datetime,timedelta"
   ]
  },
  {
   "cell_type": "code",
   "execution_count": 77,
   "metadata": {},
   "outputs": [],
   "source": [
    "to_date = datetime.now()"
   ]
  },
  {
   "cell_type": "code",
   "execution_count": 78,
   "metadata": {},
   "outputs": [
    {
     "data": {
      "text/plain": [
       "'20220409'"
      ]
     },
     "execution_count": 78,
     "metadata": {},
     "output_type": "execute_result"
    }
   ],
   "source": [
    "datetime.strftime(to_date, '%Y%m%d')"
   ]
  },
  {
   "cell_type": "code",
   "execution_count": 81,
   "metadata": {},
   "outputs": [],
   "source": [
    "from_date = to_date + timedelta(days=-400)"
   ]
  },
  {
   "cell_type": "code",
   "execution_count": 82,
   "metadata": {},
   "outputs": [
    {
     "data": {
      "text/plain": [
       "'20210305'"
      ]
     },
     "execution_count": 82,
     "metadata": {},
     "output_type": "execute_result"
    }
   ],
   "source": [
    "datetime.strftime(from_date, '%Y%m%d')"
   ]
  },
  {
   "cell_type": "code",
   "execution_count": null,
   "metadata": {},
   "outputs": [],
   "source": []
  },
  {
   "cell_type": "code",
   "execution_count": null,
   "metadata": {},
   "outputs": [],
   "source": []
  },
  {
   "cell_type": "code",
   "execution_count": 34,
   "metadata": {},
   "outputs": [
    {
     "data": {
      "text/plain": [
       "12.1111"
      ]
     },
     "execution_count": 34,
     "metadata": {},
     "output_type": "execute_result"
    }
   ],
   "source": [
    "x = 12.111111111111\n",
    "round(x, 4)"
   ]
  },
  {
   "cell_type": "code",
   "execution_count": null,
   "metadata": {},
   "outputs": [],
   "source": []
  },
  {
   "cell_type": "code",
   "execution_count": 92,
   "metadata": {},
   "outputs": [],
   "source": [
    "cols = \"\"\"\n",
    "ticker      dates   opens   highs    lows  closes   volumes      w_p  \n",
    "ema_fast    ema_slow    ema_fast_d  ema_slow_u  ema_slow_d \n",
    "vol    vol_avg       rsi   rsi_avg     rsi_u     rsi_d  rsi_signal \n",
    "\"\"\""
   ]
  },
  {
   "cell_type": "code",
   "execution_count": 103,
   "metadata": {},
   "outputs": [],
   "source": [
    "columns = []\n",
    "for c in [c.strip().split() for  c in cols.split(\"\\n\") if c.strip()]:\n",
    "    for j in c:\n",
    "        columns.append(j)"
   ]
  },
  {
   "cell_type": "code",
   "execution_count": 99,
   "metadata": {},
   "outputs": [
    {
     "data": {
      "text/plain": [
       "(20,\n",
       " 'ticker,dates,opens,highs,lows,closes,volumes,w_p,ema_fast,ema_slow,ema_fast_d,ema_slow_u,ema_slow_d,vol,vol_avg,rsi,rsi_avg,rsi_u,rsi_d,rsi_signal')"
      ]
     },
     "execution_count": 99,
     "metadata": {},
     "output_type": "execute_result"
    }
   ],
   "source": [
    "len(columns), \",\".join(columns)"
   ]
  },
  {
   "cell_type": "code",
   "execution_count": 101,
   "metadata": {},
   "outputs": [],
   "source": [
    "vals = \"\"\"\n",
    "QQQ 2022-04-06  355.65  356.78  350.56  353.24  89720554  353.455   \n",
    "357.009524  354.724103    352.329906  362.337633  347.110573   \n",
    "89.720554  69.083925 -0.583806 -0.653224 -0.053224 -1.253224    0.069417 \n",
    "\"\"\""
   ]
  },
  {
   "cell_type": "code",
   "execution_count": 102,
   "metadata": {},
   "outputs": [
    {
     "data": {
      "text/plain": [
       "(20,\n",
       " 'QQQ,2022-04-06,355.65,356.78,350.56,353.24,89720554,353.455,357.009524,354.724103,352.329906,362.337633,347.110573,89.720554,69.083925,-0.583806,-0.653224,-0.053224,-1.253224,0.069417')"
      ]
     },
     "execution_count": 102,
     "metadata": {},
     "output_type": "execute_result"
    }
   ],
   "source": [
    "values = []\n",
    "for c in [c.strip().split() for  c in vals.split(\"\\n\") if c.strip()]:\n",
    "    for j in c:\n",
    "        values.append(j)\n",
    "len(values), \",\".join(values)"
   ]
  },
  {
   "cell_type": "raw",
   "metadata": {},
   "source": [
    "insert into quote_ta(\n",
    "ticker,dates,opens,highs,lows,closes,volumes,w_p,ema_fast,ema_slow,ema_fast_d,ema_slow_u,ema_slow_d,vol,vol_avg,rsi,rsi_avg,rsi_u,rsi_d,rsi_signal\n",
    ")     \n",
    "values (\n",
    "'QQQ','2022-04-06',355.65,356.78,350.56,353.24,89720554,353.455,357.009524,354.724103,352.329906,362.337633,347.110573,89.720554,69.083925,-0.583806,-0.653224,-0.053224,-1.253224,0.069417\n",
    ")"
   ]
  }
 ],
 "metadata": {
  "kernelspec": {
   "display_name": "Python 3",
   "language": "python",
   "name": "python3"
  },
  "language_info": {
   "codemirror_mode": {
    "name": "ipython",
    "version": 3
   },
   "file_extension": ".py",
   "mimetype": "text/x-python",
   "name": "python",
   "nbconvert_exporter": "python",
   "pygments_lexer": "ipython3",
   "version": "3.8.5"
  },
  "toc": {
   "base_numbering": 1,
   "nav_menu": {},
   "number_sections": true,
   "sideBar": true,
   "skip_h1_title": false,
   "title_cell": "Table of Contents",
   "title_sidebar": "Contents",
   "toc_cell": false,
   "toc_position": {},
   "toc_section_display": true,
   "toc_window_display": false
  }
 },
 "nbformat": 4,
 "nbformat_minor": 4
}
